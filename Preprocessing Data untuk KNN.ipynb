{
 "cells": [
  {
   "cell_type": "code",
   "execution_count": 73,
   "id": "6cfe3539",
   "metadata": {},
   "outputs": [],
   "source": [
    "import pandas as pd\n",
    "import matplotlib.pyplot as plt\n",
    "import numpy as np\n",
    "from sklearn import preprocessing\n",
    "%matplotlib inline\n",
    "#tambahkan library sesuai kebutuhan"
   ]
  },
  {
   "cell_type": "code",
   "execution_count": 37,
   "id": "a7dc9480",
   "metadata": {},
   "outputs": [
    {
     "data": {
      "text/html": [
       "<div>\n",
       "<style scoped>\n",
       "    .dataframe tbody tr th:only-of-type {\n",
       "        vertical-align: middle;\n",
       "    }\n",
       "\n",
       "    .dataframe tbody tr th {\n",
       "        vertical-align: top;\n",
       "    }\n",
       "\n",
       "    .dataframe thead th {\n",
       "        text-align: right;\n",
       "    }\n",
       "</style>\n",
       "<table border=\"1\" class=\"dataframe\">\n",
       "  <thead>\n",
       "    <tr style=\"text-align: right;\">\n",
       "      <th></th>\n",
       "      <th>PH</th>\n",
       "      <th>cahaya</th>\n",
       "      <th>intensitas air</th>\n",
       "      <th>suhu</th>\n",
       "      <th>PPM</th>\n",
       "      <th>tinggi air</th>\n",
       "      <th>aksi</th>\n",
       "    </tr>\n",
       "  </thead>\n",
       "  <tbody>\n",
       "    <tr>\n",
       "      <th>0</th>\n",
       "      <td>6.5</td>\n",
       "      <td>Ada</td>\n",
       "      <td>Tinggi</td>\n",
       "      <td>27.0</td>\n",
       "      <td>188.0</td>\n",
       "      <td>622</td>\n",
       "      <td>Hidupkan Lampu dan Pompa nutrisi TDS</td>\n",
       "    </tr>\n",
       "    <tr>\n",
       "      <th>1</th>\n",
       "      <td>5.7</td>\n",
       "      <td>Ada</td>\n",
       "      <td>Tinggi</td>\n",
       "      <td>26.9</td>\n",
       "      <td>79.0</td>\n",
       "      <td>557</td>\n",
       "      <td>Hidupkan Lampu dan Pompa nutrisi TDS</td>\n",
       "    </tr>\n",
       "    <tr>\n",
       "      <th>2</th>\n",
       "      <td>6.0</td>\n",
       "      <td>Ada</td>\n",
       "      <td>Tinggi</td>\n",
       "      <td>27.0</td>\n",
       "      <td>11.0</td>\n",
       "      <td>491</td>\n",
       "      <td>Hidupkan Lampu dan Pompa nutrisi TDS</td>\n",
       "    </tr>\n",
       "    <tr>\n",
       "      <th>3</th>\n",
       "      <td>6.5</td>\n",
       "      <td>Ada</td>\n",
       "      <td>Tinggi</td>\n",
       "      <td>27.1</td>\n",
       "      <td>345.0</td>\n",
       "      <td>12000</td>\n",
       "      <td>Tidak melakukan apa-apa</td>\n",
       "    </tr>\n",
       "    <tr>\n",
       "      <th>4</th>\n",
       "      <td>6.2</td>\n",
       "      <td>NaN</td>\n",
       "      <td>Tinggi</td>\n",
       "      <td>27.1</td>\n",
       "      <td>602.0</td>\n",
       "      <td>444</td>\n",
       "      <td>Tidak melakukan apa-apa</td>\n",
       "    </tr>\n",
       "    <tr>\n",
       "      <th>...</th>\n",
       "      <td>...</td>\n",
       "      <td>...</td>\n",
       "      <td>...</td>\n",
       "      <td>...</td>\n",
       "      <td>...</td>\n",
       "      <td>...</td>\n",
       "      <td>...</td>\n",
       "    </tr>\n",
       "    <tr>\n",
       "      <th>611</th>\n",
       "      <td>4.6</td>\n",
       "      <td>Ada</td>\n",
       "      <td>Rendah sekali</td>\n",
       "      <td>25.3</td>\n",
       "      <td>904.0</td>\n",
       "      <td>47</td>\n",
       "      <td>Hidupkan Lampu</td>\n",
       "    </tr>\n",
       "    <tr>\n",
       "      <th>612</th>\n",
       "      <td>2.1</td>\n",
       "      <td>Ada</td>\n",
       "      <td>Rendah sekali</td>\n",
       "      <td>25.0</td>\n",
       "      <td>388.0</td>\n",
       "      <td>18</td>\n",
       "      <td>Hidupkan Lampu dan Pompa nutrisi TDS</td>\n",
       "    </tr>\n",
       "    <tr>\n",
       "      <th>613</th>\n",
       "      <td>3.2</td>\n",
       "      <td>Ada</td>\n",
       "      <td>Rendah sekali</td>\n",
       "      <td>25.3</td>\n",
       "      <td>793.0</td>\n",
       "      <td>19</td>\n",
       "      <td>Hidupkan Lampu</td>\n",
       "    </tr>\n",
       "    <tr>\n",
       "      <th>614</th>\n",
       "      <td>1.4</td>\n",
       "      <td>Ada</td>\n",
       "      <td>Rendah sekali</td>\n",
       "      <td>25.4</td>\n",
       "      <td>1052.0</td>\n",
       "      <td>3</td>\n",
       "      <td>Hidupkan Lampu</td>\n",
       "    </tr>\n",
       "    <tr>\n",
       "      <th>615</th>\n",
       "      <td>5.0</td>\n",
       "      <td>Ada</td>\n",
       "      <td>Rendah sekali</td>\n",
       "      <td>25.3</td>\n",
       "      <td>977.0</td>\n",
       "      <td>19</td>\n",
       "      <td>Hidupkan Lampu</td>\n",
       "    </tr>\n",
       "  </tbody>\n",
       "</table>\n",
       "<p>616 rows × 7 columns</p>\n",
       "</div>"
      ],
      "text/plain": [
       "      PH cahaya intensitas air  suhu     PPM  tinggi air  \\\n",
       "0    6.5    Ada         Tinggi  27.0   188.0         622   \n",
       "1    5.7    Ada         Tinggi  26.9    79.0         557   \n",
       "2    6.0    Ada         Tinggi  27.0    11.0         491   \n",
       "3    6.5    Ada         Tinggi  27.1   345.0       12000   \n",
       "4    6.2    NaN         Tinggi  27.1   602.0         444   \n",
       "..   ...    ...            ...   ...     ...         ...   \n",
       "611  4.6    Ada  Rendah sekali  25.3   904.0          47   \n",
       "612  2.1    Ada  Rendah sekali  25.0   388.0          18   \n",
       "613  3.2    Ada  Rendah sekali  25.3   793.0          19   \n",
       "614  1.4    Ada  Rendah sekali  25.4  1052.0           3   \n",
       "615  5.0    Ada  Rendah sekali  25.3   977.0          19   \n",
       "\n",
       "                                     aksi  \n",
       "0    Hidupkan Lampu dan Pompa nutrisi TDS  \n",
       "1    Hidupkan Lampu dan Pompa nutrisi TDS  \n",
       "2    Hidupkan Lampu dan Pompa nutrisi TDS  \n",
       "3                 Tidak melakukan apa-apa  \n",
       "4                 Tidak melakukan apa-apa  \n",
       "..                                    ...  \n",
       "611                        Hidupkan Lampu  \n",
       "612  Hidupkan Lampu dan Pompa nutrisi TDS  \n",
       "613                        Hidupkan Lampu  \n",
       "614                        Hidupkan Lampu  \n",
       "615                        Hidupkan Lampu  \n",
       "\n",
       "[616 rows x 7 columns]"
      ]
     },
     "execution_count": 37,
     "metadata": {},
     "output_type": "execute_result"
    }
   ],
   "source": [
    "data = pd.read_csv('activity_km_07_01.csv')\n",
    "data"
   ]
  },
  {
   "cell_type": "markdown",
   "id": "3560c59c",
   "metadata": {},
   "source": [
    "## 1. Mengganti nama kolom yang menggunakan spasi"
   ]
  },
  {
   "cell_type": "code",
   "execution_count": 38,
   "id": "d93c558b",
   "metadata": {},
   "outputs": [],
   "source": [
    "data = data.rename(columns={'PH': 'pH', 'cahaya': 'cahaya', 'intensitas air': 'intensitas_air', 'suhu':'suhu','PPM':'PPM','tinggi air':'tinggi_air','aksi':'aksi'})"
   ]
  },
  {
   "cell_type": "markdown",
   "id": "0da44994",
   "metadata": {},
   "source": [
    "## 2. Mengganti data kategorikal menjadi bentuk numerical (Clue : Labelencoder tidak bekerja ketika ada missing value, gunakan metode lain)"
   ]
  },
  {
   "cell_type": "code",
   "execution_count": 39,
   "id": "c073810f",
   "metadata": {},
   "outputs": [
    {
     "data": {
      "text/html": [
       "<div>\n",
       "<style scoped>\n",
       "    .dataframe tbody tr th:only-of-type {\n",
       "        vertical-align: middle;\n",
       "    }\n",
       "\n",
       "    .dataframe tbody tr th {\n",
       "        vertical-align: top;\n",
       "    }\n",
       "\n",
       "    .dataframe thead th {\n",
       "        text-align: right;\n",
       "    }\n",
       "</style>\n",
       "<table border=\"1\" class=\"dataframe\">\n",
       "  <thead>\n",
       "    <tr style=\"text-align: right;\">\n",
       "      <th></th>\n",
       "      <th>pH</th>\n",
       "      <th>cahaya</th>\n",
       "      <th>intensitas_air</th>\n",
       "      <th>suhu</th>\n",
       "      <th>PPM</th>\n",
       "      <th>tinggi_air</th>\n",
       "      <th>aksi</th>\n",
       "    </tr>\n",
       "  </thead>\n",
       "  <tbody>\n",
       "    <tr>\n",
       "      <th>0</th>\n",
       "      <td>6.5</td>\n",
       "      <td>1.0</td>\n",
       "      <td>Tinggi</td>\n",
       "      <td>27.0</td>\n",
       "      <td>188.0</td>\n",
       "      <td>622</td>\n",
       "      <td>Hidupkan Lampu dan Pompa nutrisi TDS</td>\n",
       "    </tr>\n",
       "    <tr>\n",
       "      <th>1</th>\n",
       "      <td>5.7</td>\n",
       "      <td>1.0</td>\n",
       "      <td>Tinggi</td>\n",
       "      <td>26.9</td>\n",
       "      <td>79.0</td>\n",
       "      <td>557</td>\n",
       "      <td>Hidupkan Lampu dan Pompa nutrisi TDS</td>\n",
       "    </tr>\n",
       "    <tr>\n",
       "      <th>2</th>\n",
       "      <td>6.0</td>\n",
       "      <td>1.0</td>\n",
       "      <td>Tinggi</td>\n",
       "      <td>27.0</td>\n",
       "      <td>11.0</td>\n",
       "      <td>491</td>\n",
       "      <td>Hidupkan Lampu dan Pompa nutrisi TDS</td>\n",
       "    </tr>\n",
       "    <tr>\n",
       "      <th>3</th>\n",
       "      <td>6.5</td>\n",
       "      <td>1.0</td>\n",
       "      <td>Tinggi</td>\n",
       "      <td>27.1</td>\n",
       "      <td>345.0</td>\n",
       "      <td>12000</td>\n",
       "      <td>Tidak melakukan apa-apa</td>\n",
       "    </tr>\n",
       "    <tr>\n",
       "      <th>4</th>\n",
       "      <td>6.2</td>\n",
       "      <td>NaN</td>\n",
       "      <td>Tinggi</td>\n",
       "      <td>27.1</td>\n",
       "      <td>602.0</td>\n",
       "      <td>444</td>\n",
       "      <td>Tidak melakukan apa-apa</td>\n",
       "    </tr>\n",
       "  </tbody>\n",
       "</table>\n",
       "</div>"
      ],
      "text/plain": [
       "    pH  cahaya intensitas_air  suhu    PPM  tinggi_air  \\\n",
       "0  6.5     1.0         Tinggi  27.0  188.0         622   \n",
       "1  5.7     1.0         Tinggi  26.9   79.0         557   \n",
       "2  6.0     1.0         Tinggi  27.0   11.0         491   \n",
       "3  6.5     1.0         Tinggi  27.1  345.0       12000   \n",
       "4  6.2     NaN         Tinggi  27.1  602.0         444   \n",
       "\n",
       "                                   aksi  \n",
       "0  Hidupkan Lampu dan Pompa nutrisi TDS  \n",
       "1  Hidupkan Lampu dan Pompa nutrisi TDS  \n",
       "2  Hidupkan Lampu dan Pompa nutrisi TDS  \n",
       "3               Tidak melakukan apa-apa  \n",
       "4               Tidak melakukan apa-apa  "
      ]
     },
     "execution_count": 39,
     "metadata": {},
     "output_type": "execute_result"
    }
   ],
   "source": [
    "def getNumber(str):\n",
    "    if str==\"Ada\":\n",
    "        return 1\n",
    "    elif str==\"Tidak ada\":\n",
    "        return 0\n",
    "    else:\n",
    "        return str\n",
    "data[\"cahaya\"]=data[\"cahaya\"].apply(getNumber)\n",
    "\n",
    "data.head()"
   ]
  },
  {
   "cell_type": "code",
   "execution_count": 40,
   "id": "b89d82f8",
   "metadata": {},
   "outputs": [
    {
     "data": {
      "text/html": [
       "<div>\n",
       "<style scoped>\n",
       "    .dataframe tbody tr th:only-of-type {\n",
       "        vertical-align: middle;\n",
       "    }\n",
       "\n",
       "    .dataframe tbody tr th {\n",
       "        vertical-align: top;\n",
       "    }\n",
       "\n",
       "    .dataframe thead th {\n",
       "        text-align: right;\n",
       "    }\n",
       "</style>\n",
       "<table border=\"1\" class=\"dataframe\">\n",
       "  <thead>\n",
       "    <tr style=\"text-align: right;\">\n",
       "      <th></th>\n",
       "      <th>pH</th>\n",
       "      <th>cahaya</th>\n",
       "      <th>intensitas_air</th>\n",
       "      <th>suhu</th>\n",
       "      <th>PPM</th>\n",
       "      <th>tinggi_air</th>\n",
       "      <th>aksi</th>\n",
       "    </tr>\n",
       "  </thead>\n",
       "  <tbody>\n",
       "    <tr>\n",
       "      <th>0</th>\n",
       "      <td>6.5</td>\n",
       "      <td>1.0</td>\n",
       "      <td>3</td>\n",
       "      <td>27.0</td>\n",
       "      <td>188.0</td>\n",
       "      <td>622</td>\n",
       "      <td>Hidupkan Lampu dan Pompa nutrisi TDS</td>\n",
       "    </tr>\n",
       "    <tr>\n",
       "      <th>1</th>\n",
       "      <td>5.7</td>\n",
       "      <td>1.0</td>\n",
       "      <td>3</td>\n",
       "      <td>26.9</td>\n",
       "      <td>79.0</td>\n",
       "      <td>557</td>\n",
       "      <td>Hidupkan Lampu dan Pompa nutrisi TDS</td>\n",
       "    </tr>\n",
       "    <tr>\n",
       "      <th>2</th>\n",
       "      <td>6.0</td>\n",
       "      <td>1.0</td>\n",
       "      <td>3</td>\n",
       "      <td>27.0</td>\n",
       "      <td>11.0</td>\n",
       "      <td>491</td>\n",
       "      <td>Hidupkan Lampu dan Pompa nutrisi TDS</td>\n",
       "    </tr>\n",
       "    <tr>\n",
       "      <th>3</th>\n",
       "      <td>6.5</td>\n",
       "      <td>1.0</td>\n",
       "      <td>3</td>\n",
       "      <td>27.1</td>\n",
       "      <td>345.0</td>\n",
       "      <td>12000</td>\n",
       "      <td>Tidak melakukan apa-apa</td>\n",
       "    </tr>\n",
       "    <tr>\n",
       "      <th>4</th>\n",
       "      <td>6.2</td>\n",
       "      <td>NaN</td>\n",
       "      <td>3</td>\n",
       "      <td>27.1</td>\n",
       "      <td>602.0</td>\n",
       "      <td>444</td>\n",
       "      <td>Tidak melakukan apa-apa</td>\n",
       "    </tr>\n",
       "  </tbody>\n",
       "</table>\n",
       "</div>"
      ],
      "text/plain": [
       "    pH  cahaya  intensitas_air  suhu    PPM  tinggi_air  \\\n",
       "0  6.5     1.0               3  27.0  188.0         622   \n",
       "1  5.7     1.0               3  26.9   79.0         557   \n",
       "2  6.0     1.0               3  27.0   11.0         491   \n",
       "3  6.5     1.0               3  27.1  345.0       12000   \n",
       "4  6.2     NaN               3  27.1  602.0         444   \n",
       "\n",
       "                                   aksi  \n",
       "0  Hidupkan Lampu dan Pompa nutrisi TDS  \n",
       "1  Hidupkan Lampu dan Pompa nutrisi TDS  \n",
       "2  Hidupkan Lampu dan Pompa nutrisi TDS  \n",
       "3               Tidak melakukan apa-apa  \n",
       "4               Tidak melakukan apa-apa  "
      ]
     },
     "execution_count": 40,
     "metadata": {},
     "output_type": "execute_result"
    }
   ],
   "source": [
    "def getNumber(str):\n",
    "    if str==\"Tinggi\":\n",
    "        return 3\n",
    "    elif str==\"Cukup\":\n",
    "        return 2\n",
    "    elif str==\"Rendah\":\n",
    "        return 1\n",
    "    elif str==\"Rendah sekali\":\n",
    "        return 0\n",
    "    else:\n",
    "        return str\n",
    "data[\"intensitas_air\"]=data[\"intensitas_air\"].apply(getNumber)\n",
    "\n",
    "data.head()"
   ]
  },
  {
   "cell_type": "code",
   "execution_count": 41,
   "id": "ac4edf93",
   "metadata": {},
   "outputs": [
    {
     "data": {
      "text/html": [
       "<div>\n",
       "<style scoped>\n",
       "    .dataframe tbody tr th:only-of-type {\n",
       "        vertical-align: middle;\n",
       "    }\n",
       "\n",
       "    .dataframe tbody tr th {\n",
       "        vertical-align: top;\n",
       "    }\n",
       "\n",
       "    .dataframe thead th {\n",
       "        text-align: right;\n",
       "    }\n",
       "</style>\n",
       "<table border=\"1\" class=\"dataframe\">\n",
       "  <thead>\n",
       "    <tr style=\"text-align: right;\">\n",
       "      <th></th>\n",
       "      <th>pH</th>\n",
       "      <th>cahaya</th>\n",
       "      <th>intensitas_air</th>\n",
       "      <th>suhu</th>\n",
       "      <th>PPM</th>\n",
       "      <th>tinggi_air</th>\n",
       "      <th>aksi</th>\n",
       "    </tr>\n",
       "  </thead>\n",
       "  <tbody>\n",
       "    <tr>\n",
       "      <th>0</th>\n",
       "      <td>6.5</td>\n",
       "      <td>1.0</td>\n",
       "      <td>3</td>\n",
       "      <td>27.0</td>\n",
       "      <td>188.0</td>\n",
       "      <td>622</td>\n",
       "      <td>3</td>\n",
       "    </tr>\n",
       "    <tr>\n",
       "      <th>1</th>\n",
       "      <td>5.7</td>\n",
       "      <td>1.0</td>\n",
       "      <td>3</td>\n",
       "      <td>26.9</td>\n",
       "      <td>79.0</td>\n",
       "      <td>557</td>\n",
       "      <td>3</td>\n",
       "    </tr>\n",
       "    <tr>\n",
       "      <th>2</th>\n",
       "      <td>6.0</td>\n",
       "      <td>1.0</td>\n",
       "      <td>3</td>\n",
       "      <td>27.0</td>\n",
       "      <td>11.0</td>\n",
       "      <td>491</td>\n",
       "      <td>3</td>\n",
       "    </tr>\n",
       "    <tr>\n",
       "      <th>3</th>\n",
       "      <td>6.5</td>\n",
       "      <td>1.0</td>\n",
       "      <td>3</td>\n",
       "      <td>27.1</td>\n",
       "      <td>345.0</td>\n",
       "      <td>12000</td>\n",
       "      <td>0</td>\n",
       "    </tr>\n",
       "    <tr>\n",
       "      <th>4</th>\n",
       "      <td>6.2</td>\n",
       "      <td>NaN</td>\n",
       "      <td>3</td>\n",
       "      <td>27.1</td>\n",
       "      <td>602.0</td>\n",
       "      <td>444</td>\n",
       "      <td>0</td>\n",
       "    </tr>\n",
       "  </tbody>\n",
       "</table>\n",
       "</div>"
      ],
      "text/plain": [
       "    pH  cahaya  intensitas_air  suhu    PPM  tinggi_air  aksi\n",
       "0  6.5     1.0               3  27.0  188.0         622     3\n",
       "1  5.7     1.0               3  26.9   79.0         557     3\n",
       "2  6.0     1.0               3  27.0   11.0         491     3\n",
       "3  6.5     1.0               3  27.1  345.0       12000     0\n",
       "4  6.2     NaN               3  27.1  602.0         444     0"
      ]
     },
     "execution_count": 41,
     "metadata": {},
     "output_type": "execute_result"
    }
   ],
   "source": [
    "def getNumber(str):\n",
    "    if str==\"Hidupkan Lampu dan Pompa nutrisi TDS\":\n",
    "        return 3\n",
    "    elif str==\"Hidupkan Lampu\":\n",
    "        return 2\n",
    "    elif str==\"Hidupkan Pompa nutrisi TDS\":\n",
    "        return 1\n",
    "    elif str==\"Tidak melakukan apa-apa\":\n",
    "        return 0\n",
    "    else:\n",
    "        return str\n",
    "        \n",
    "data[\"aksi\"]=data[\"aksi\"].apply(getNumber)\n",
    "\n",
    "data.head()"
   ]
  },
  {
   "cell_type": "markdown",
   "id": "967e2bba",
   "metadata": {},
   "source": [
    "## 3. Handle Missing Value"
   ]
  },
  {
   "cell_type": "code",
   "execution_count": 42,
   "id": "c088e386",
   "metadata": {},
   "outputs": [
    {
     "data": {
      "text/html": [
       "<div>\n",
       "<style scoped>\n",
       "    .dataframe tbody tr th:only-of-type {\n",
       "        vertical-align: middle;\n",
       "    }\n",
       "\n",
       "    .dataframe tbody tr th {\n",
       "        vertical-align: top;\n",
       "    }\n",
       "\n",
       "    .dataframe thead th {\n",
       "        text-align: right;\n",
       "    }\n",
       "</style>\n",
       "<table border=\"1\" class=\"dataframe\">\n",
       "  <thead>\n",
       "    <tr style=\"text-align: right;\">\n",
       "      <th></th>\n",
       "      <th>total_missing</th>\n",
       "      <th>perc_missing</th>\n",
       "    </tr>\n",
       "  </thead>\n",
       "  <tbody>\n",
       "    <tr>\n",
       "      <th>pH</th>\n",
       "      <td>16</td>\n",
       "      <td>1.795735</td>\n",
       "    </tr>\n",
       "    <tr>\n",
       "      <th>cahaya</th>\n",
       "      <td>26</td>\n",
       "      <td>2.918070</td>\n",
       "    </tr>\n",
       "    <tr>\n",
       "      <th>intensitas_air</th>\n",
       "      <td>0</td>\n",
       "      <td>0.000000</td>\n",
       "    </tr>\n",
       "    <tr>\n",
       "      <th>suhu</th>\n",
       "      <td>27</td>\n",
       "      <td>3.030303</td>\n",
       "    </tr>\n",
       "    <tr>\n",
       "      <th>PPM</th>\n",
       "      <td>5</td>\n",
       "      <td>0.561167</td>\n",
       "    </tr>\n",
       "    <tr>\n",
       "      <th>tinggi_air</th>\n",
       "      <td>0</td>\n",
       "      <td>0.000000</td>\n",
       "    </tr>\n",
       "    <tr>\n",
       "      <th>aksi</th>\n",
       "      <td>0</td>\n",
       "      <td>0.000000</td>\n",
       "    </tr>\n",
       "  </tbody>\n",
       "</table>\n",
       "</div>"
      ],
      "text/plain": [
       "                total_missing  perc_missing\n",
       "pH                         16      1.795735\n",
       "cahaya                     26      2.918070\n",
       "intensitas_air              0      0.000000\n",
       "suhu                       27      3.030303\n",
       "PPM                         5      0.561167\n",
       "tinggi_air                  0      0.000000\n",
       "aksi                        0      0.000000"
      ]
     },
     "execution_count": 42,
     "metadata": {},
     "output_type": "execute_result"
    }
   ],
   "source": [
    "#Cek missing value\n",
    "missing_data = pd.DataFrame({'total_missing': data.isnull().sum(), 'perc_missing': (data.isnull().sum()/891)*100})\n",
    "missing_data"
   ]
  },
  {
   "cell_type": "code",
   "execution_count": 43,
   "id": "a4ed955d",
   "metadata": {},
   "outputs": [
    {
     "data": {
      "text/plain": [
       "['pH', 'cahaya', 'suhu', 'PPM']"
      ]
     },
     "execution_count": 43,
     "metadata": {},
     "output_type": "execute_result"
    }
   ],
   "source": [
    "#mengelompokkan missing value\n",
    "column_missing = ['pH', 'cahaya', 'suhu', 'PPM']\n",
    "column_missing"
   ]
  },
  {
   "cell_type": "code",
   "execution_count": 44,
   "id": "1aed7bc0",
   "metadata": {},
   "outputs": [
    {
     "data": {
      "text/plain": [
       "pH                0\n",
       "cahaya            0\n",
       "intensitas_air    0\n",
       "suhu              0\n",
       "PPM               0\n",
       "tinggi_air        0\n",
       "aksi              0\n",
       "dtype: int64"
      ]
     },
     "execution_count": 44,
     "metadata": {},
     "output_type": "execute_result"
    }
   ],
   "source": [
    "#solve missing value\n",
    "for col in column_missing:\n",
    "  data[col].replace(np.nan, data[col].mean(), inplace=True)\n",
    "\n",
    "data.isnull().sum()"
   ]
  },
  {
   "cell_type": "markdown",
   "id": "da280888",
   "metadata": {},
   "source": [
    "## 4. Detect outliers dan handling (bisa dihapus atau diganti nilainya dengan mean/modus/median)"
   ]
  },
  {
   "cell_type": "code",
   "execution_count": 45,
   "id": "3754d019",
   "metadata": {},
   "outputs": [
    {
     "data": {
      "text/plain": [
       "Index(['pH', 'cahaya', 'intensitas_air', 'suhu', 'PPM', 'tinggi_air', 'aksi'], dtype='object')"
      ]
     },
     "execution_count": 45,
     "metadata": {},
     "output_type": "execute_result"
    }
   ],
   "source": [
    "data.columns"
   ]
  },
  {
   "cell_type": "code",
   "execution_count": 13,
   "id": "e13fc30a",
   "metadata": {},
   "outputs": [
    {
     "data": {
      "image/png": "[encoded data removed]",
      "text/plain": [
       "<Figure size 1368x648 with 1 Axes>"
      ]
     },
     "metadata": {
      "needs_background": "light"
     },
     "output_type": "display_data"
    }
   ],
   "source": [
    "num_cols = ['pH', 'cahaya', 'intensitas_air', 'suhu', 'PPM', 'tinggi_air', 'aksi']\n",
    "plt.figure(figsize=(19,9))\n",
    "data[num_cols].boxplot()\n",
    "plt.title(\"Variabels in data dataset\", fontsize=20)\n",
    "plt.show()"
   ]
  },
  {
   "cell_type": "code",
   "execution_count": null,
   "id": "2e5c724d",
   "metadata": {},
   "outputs": [],
   "source": [
    "#terlihat bahwa kolom yang mempunyai outliers adalah tinggi_air dan suhu"
   ]
  },
  {
   "cell_type": "code",
   "execution_count": 46,
   "id": "f6e72768",
   "metadata": {},
   "outputs": [],
   "source": [
    "#replace outliers suhu\n",
    "Q1 = data['suhu'].quantile(0.25)\n",
    "Q3 = data['suhu'].quantile(0.75)\n",
    "IQR = Q3 - Q1\n",
    "whisker_width = 1.5\n",
    "lower_whisker = Q1 -(whisker_width*IQR)\n",
    "upper_whisker = Q3 + (whisker_width*IQR)\n",
    "data['suhu']=np.where(data['suhu']>upper_whisker,upper_whisker,np.where(data['suhu']<lower_whisker,lower_whisker,data['suhu']))"
   ]
  },
  {
   "cell_type": "code",
   "execution_count": 47,
   "id": "9aeee882",
   "metadata": {},
   "outputs": [],
   "source": [
    "#replace outliers tinggi_air\n",
    "Q1 = data['tinggi_air'].quantile(0.25)\n",
    "Q3 = data['tinggi_air'].quantile(0.75)\n",
    "IQR = Q3 - Q1\n",
    "\n",
    "whisker_width = 1.5\n",
    "lower_whisker = Q1 -(whisker_width*IQR)\n",
    "upper_whisker = Q3 + (whisker_width*IQR)\n",
    "data['tinggi_air']=np.where(data['tinggi_air']>upper_whisker,upper_whisker,np.where(data['tinggi_air']<lower_whisker,lower_whisker,data['tinggi_air']))"
   ]
  },
  {
   "cell_type": "code",
   "execution_count": 16,
   "id": "2390b6c9",
   "metadata": {},
   "outputs": [
    {
     "data": {
      "image/png": "[encoded data removed]",
      "text/plain": [
       "<Figure size 1368x648 with 1 Axes>"
      ]
     },
     "metadata": {
      "needs_background": "light"
     },
     "output_type": "display_data"
    }
   ],
   "source": [
    "#setelah direplace outliers nya\n",
    "num_cols = ['pH', 'cahaya', 'intensitas_air', 'suhu', 'PPM', 'tinggi_air', 'aksi']\n",
    "plt.figure(figsize=(19,9))\n",
    "data[num_cols].boxplot()\n",
    "plt.title(\"Variabels in data dataset setelah replace outliers\", fontsize=20)\n",
    "plt.show()"
   ]
  },
  {
   "cell_type": "markdown",
   "id": "34737085",
   "metadata": {},
   "source": [
    "## 5. Pisahkan data feature dengan label"
   ]
  },
  {
   "cell_type": "code",
   "execution_count": 49,
   "id": "96677ae1",
   "metadata": {},
   "outputs": [
    {
     "data": {
      "text/plain": [
       "array([[6.500e+00, 1.000e+00, 3.000e+00, 2.700e+01, 1.880e+02, 6.220e+02],\n",
       "       [5.700e+00, 1.000e+00, 3.000e+00, 2.690e+01, 7.900e+01, 5.570e+02],\n",
       "       [6.000e+00, 1.000e+00, 3.000e+00, 2.700e+01, 1.100e+01, 4.910e+02],\n",
       "       ...,\n",
       "       [3.200e+00, 1.000e+00, 0.000e+00, 2.530e+01, 7.930e+02, 1.900e+01],\n",
       "       [1.400e+00, 1.000e+00, 0.000e+00, 2.540e+01, 1.052e+03, 3.000e+00],\n",
       "       [5.000e+00, 1.000e+00, 0.000e+00, 2.530e+01, 9.770e+02, 1.900e+01]])"
      ]
     },
     "execution_count": 49,
     "metadata": {},
     "output_type": "execute_result"
    }
   ],
   "source": [
    "X = data.iloc[:,:6].values\n",
    "X"
   ]
  },
  {
   "cell_type": "code",
   "execution_count": 50,
   "id": "bbc4806e",
   "metadata": {},
   "outputs": [
    {
     "data": {
      "text/plain": [
       "array([3, 3, 3, 0, 0, 2, 2, 2, 0, 2, 2, 2, 2, 2, 2, 2, 2, 3, 3, 3, 3, 2,\n",
       "       2, 2, 2, 2, 2, 2, 2, 2, 2, 2, 2, 0, 3, 3, 3, 2, 2, 0, 0, 0, 0, 0,\n",
       "       0, 0, 0, 0, 0, 0, 0, 0, 0, 0, 0, 0, 0, 0, 0, 0, 0, 0, 0, 0, 0, 0,\n",
       "       0, 0, 0, 0, 0, 0, 0, 0, 0, 0, 0, 0, 0, 0, 0, 0, 0, 0, 0, 0, 0, 0,\n",
       "       0, 0, 0, 0, 0, 0, 0, 0, 0, 0, 0, 0, 0, 0, 0, 0, 0, 0, 0, 0, 0, 0,\n",
       "       0, 0, 0, 0, 0, 0, 0, 0, 0, 0, 0, 0, 0, 0, 0, 0, 0, 0, 0, 0, 0, 0,\n",
       "       0, 0, 0, 0, 0, 0, 0, 0, 0, 0, 0, 0, 0, 0, 0, 0, 0, 0, 0, 0, 0, 0,\n",
       "       0, 0, 0, 0, 0, 0, 0, 0, 0, 0, 0, 0, 0, 0, 0, 0, 0, 0, 0, 0, 0, 0,\n",
       "       0, 0, 0, 0, 0, 0, 0, 0, 0, 0, 0, 0, 0, 0, 0, 0, 0, 0, 0, 0, 0, 0,\n",
       "       0, 0, 0, 0, 0, 0, 0, 0, 0, 0, 0, 0, 0, 0, 0, 0, 0, 0, 0, 0, 0, 0,\n",
       "       0, 0, 0, 0, 0, 0, 0, 0, 0, 0, 0, 0, 0, 0, 0, 0, 0, 0, 0, 0, 0, 0,\n",
       "       0, 0, 0, 0, 0, 0, 0, 0, 0, 0, 0, 0, 0, 0, 0, 0, 0, 0, 0, 0, 3, 3,\n",
       "       3, 3, 3, 3, 3, 3, 3, 2, 2, 2, 2, 2, 2, 2, 2, 2, 2, 2, 0, 2, 2, 2,\n",
       "       2, 2, 0, 0, 2, 2, 0, 0, 2, 2, 3, 0, 3, 3, 3, 0, 3, 0, 0, 0, 2, 2,\n",
       "       0, 0, 0, 0, 2, 2, 0, 0, 2, 0, 2, 0, 0, 0, 0, 0, 2, 2, 2, 0, 0, 0,\n",
       "       0, 3, 0, 3, 0, 3, 3, 0, 0, 2, 0, 2, 2, 0, 0, 2, 0, 2, 0, 0, 2, 0,\n",
       "       0, 0, 2, 0, 0, 0, 1, 1, 1, 1, 1, 1, 1, 1, 1, 1, 1, 1, 0, 0, 0, 0,\n",
       "       0, 0, 0, 0, 0, 0, 0, 0, 0, 0, 0, 0, 0, 0, 0, 0, 0, 0, 0, 0, 0, 0,\n",
       "       0, 0, 0, 0, 0, 0, 0, 0, 0, 0, 0, 0, 0, 0, 0, 0, 0, 0, 0, 0, 0, 0,\n",
       "       0, 0, 0, 0, 0, 0, 0, 0, 0, 0, 0, 0, 0, 0, 0, 0, 0, 0, 0, 0, 0, 0,\n",
       "       0, 0, 0, 0, 0, 0, 0, 0, 0, 0, 0, 0, 0, 0, 0, 0, 0, 0, 0, 0, 0, 0,\n",
       "       0, 0, 0, 0, 0, 0, 0, 0, 0, 0, 0, 0, 0, 0, 0, 0, 0, 0, 0, 0, 0, 0,\n",
       "       0, 0, 0, 0, 0, 0, 0, 0, 0, 0, 0, 0, 0, 0, 0, 0, 0, 0, 0, 0, 0, 0,\n",
       "       0, 0, 0, 0, 0, 0, 0, 0, 0, 0, 0, 0, 0, 0, 0, 0, 0, 0, 0, 0, 0, 0,\n",
       "       0, 0, 0, 0, 0, 0, 0, 0, 0, 0, 0, 0, 0, 0, 0, 0, 0, 0, 0, 0, 0, 0,\n",
       "       0, 0, 0, 0, 0, 0, 0, 0, 0, 0, 0, 0, 0, 0, 0, 0, 0, 0, 0, 0, 0, 2,\n",
       "       2, 2, 0, 0, 2, 3, 2, 0, 2, 2, 2, 3, 2, 2, 3, 2, 2, 2, 3, 2, 2, 3,\n",
       "       2, 3, 2, 2, 2, 2, 3, 2, 2, 3, 2, 3, 2, 2, 2, 3, 2, 2, 3, 2, 2, 2],\n",
       "      dtype=int64)"
      ]
     },
     "execution_count": 50,
     "metadata": {},
     "output_type": "execute_result"
    }
   ],
   "source": [
    "Y = data.iloc[:, 6].values\n",
    "Y"
   ]
  },
  {
   "cell_type": "markdown",
   "id": "d97d9218",
   "metadata": {},
   "source": [
    "## 6. Check Imbalanced Dataset, jika imbalanced, gunakan smote"
   ]
  },
  {
   "cell_type": "code",
   "execution_count": 51,
   "id": "9b38106c",
   "metadata": {},
   "outputs": [
    {
     "name": "stdout",
     "output_type": "stream",
     "text": [
      "Requirement already satisfied: imbalanced-learn in c:\\users\\user\\anaconda3\\lib\\site-packages (0.8.1)\n",
      "Requirement already satisfied: scipy>=0.19.1 in c:\\users\\user\\anaconda3\\lib\\site-packages (from imbalanced-learn) (1.6.2)\n",
      "Requirement already satisfied: joblib>=0.11 in c:\\users\\user\\anaconda3\\lib\\site-packages (from imbalanced-learn) (1.0.1)\n",
      "Requirement already satisfied: scikit-learn>=0.24 in c:\\users\\user\\anaconda3\\lib\\site-packages (from imbalanced-learn) (0.24.1)\n",
      "Requirement already satisfied: numpy>=1.13.3 in c:\\users\\user\\anaconda3\\lib\\site-packages (from imbalanced-learn) (1.20.1)\n",
      "Requirement already satisfied: threadpoolctl>=2.0.0 in c:\\users\\user\\anaconda3\\lib\\site-packages (from scikit-learn>=0.24->imbalanced-learn) (2.1.0)\n",
      "Note: you may need to restart the kernel to use updated packages.\n"
     ]
    }
   ],
   "source": [
    "pip install imbalanced-learn"
   ]
  },
  {
   "cell_type": "code",
   "execution_count": 52,
   "id": "d9d244b4",
   "metadata": {},
   "outputs": [],
   "source": [
    "from imblearn.over_sampling import SMOTE"
   ]
  },
  {
   "cell_type": "code",
   "execution_count": 53,
   "id": "9723f9f7",
   "metadata": {},
   "outputs": [
    {
     "name": "stdout",
     "output_type": "stream",
     "text": [
      "Counter({0: 473, 2: 92, 3: 39, 1: 12})\n"
     ]
    }
   ],
   "source": [
    "from collections import Counter\n",
    "counter = Counter(Y)\n",
    "print(counter)"
   ]
  },
  {
   "cell_type": "code",
   "execution_count": 54,
   "id": "ec6c099a",
   "metadata": {},
   "outputs": [],
   "source": [
    "oversample = SMOTE(k_neighbors=5)\n",
    "X_smote, Y_smote = oversample.fit_resample(X, Y)"
   ]
  },
  {
   "cell_type": "code",
   "execution_count": 55,
   "id": "9a9cab05",
   "metadata": {},
   "outputs": [
    {
     "name": "stdout",
     "output_type": "stream",
     "text": [
      "Counter({3: 473, 0: 473, 2: 473, 1: 473})\n"
     ]
    }
   ],
   "source": [
    "counter = Counter(Y_smote)\n",
    "print(counter)"
   ]
  },
  {
   "cell_type": "markdown",
   "id": "2d75e13f",
   "metadata": {},
   "source": [
    "## 7. Visualisasikan Data sehingga kita bisa mengetahui sebuah informasi"
   ]
  },
  {
   "cell_type": "code",
   "execution_count": 56,
   "id": "5020dd0d",
   "metadata": {},
   "outputs": [],
   "source": [
    "import seaborn as sns"
   ]
  },
  {
   "cell_type": "code",
   "execution_count": 57,
   "id": "d513d79e",
   "metadata": {},
   "outputs": [
    {
     "data": {
      "image/png": "[encoded data removed]",
      "text/plain": [
       "<Figure size 864x216 with 4 Axes>"
      ]
     },
     "metadata": {
      "needs_background": "light"
     },
     "output_type": "display_data"
    }
   ],
   "source": [
    "g = sns.FacetGrid(data, col='aksi')\n",
    "g = g.map(sns.kdeplot, 'pH')\n"
   ]
  },
  {
   "cell_type": "code",
   "execution_count": 58,
   "id": "a23cb984",
   "metadata": {},
   "outputs": [
    {
     "data": {
      "image/png": "[encoded data removed]",
      "text/plain": [
       "<Figure size 864x216 with 4 Axes>"
      ]
     },
     "metadata": {
      "needs_background": "light"
     },
     "output_type": "display_data"
    }
   ],
   "source": [
    "g = sns.FacetGrid(data, col='aksi')\n",
    "g = g.map(sns.kdeplot, 'tinggi_air')\n"
   ]
  },
  {
   "cell_type": "markdown",
   "id": "f499ac74",
   "metadata": {},
   "source": [
    "## 8. Lakukan Normalization menggunakan MinMaxScaler atau Standardization menggunakan StandarScaler"
   ]
  },
  {
   "cell_type": "code",
   "execution_count": 59,
   "id": "eec11733",
   "metadata": {},
   "outputs": [
    {
     "name": "stdout",
     "output_type": "stream",
     "text": [
      "[[0.46428571 1.         1.         0.38738739 0.08705773 0.62277847]\n",
      " [0.40714286 1.         1.         0.38288288 0.03631285 0.55769712]\n",
      " [0.42857143 1.         1.         0.38738739 0.00465549 0.49161452]\n",
      " ...\n",
      " [0.22857143 1.         0.         0.31081081 0.36871508 0.01902378]\n",
      " [0.1        1.         0.         0.31531532 0.48929236 0.00300375]\n",
      " [0.35714286 1.         0.         0.31081081 0.45437616 0.01902378]]\n"
     ]
    }
   ],
   "source": [
    "from sklearn.preprocessing import MinMaxScaler\n",
    "\n",
    "scaler =  MinMaxScaler()\n",
    "\n",
    "# transform data\n",
    "X_scaled = scaler.fit_transform(X)\n",
    "print(X_scaled)"
   ]
  },
  {
   "cell_type": "markdown",
   "id": "c1069694",
   "metadata": {},
   "source": [
    "## 9. Membuat Model KNN"
   ]
  },
  {
   "cell_type": "code",
   "execution_count": 60,
   "id": "bef03cea",
   "metadata": {},
   "outputs": [
    {
     "data": {
      "text/plain": [
       "0    473\n",
       "2     92\n",
       "3     39\n",
       "1     12\n",
       "Name: aksi, dtype: int64"
      ]
     },
     "execution_count": 60,
     "metadata": {},
     "output_type": "execute_result"
    }
   ],
   "source": [
    "data['aksi'].value_counts()"
   ]
  },
  {
   "cell_type": "markdown",
   "id": "80f5fa57",
   "metadata": {},
   "source": [
    "#### Mendefinisikan Label"
   ]
  },
  {
   "cell_type": "code",
   "execution_count": 64,
   "id": "b3e71f24",
   "metadata": {},
   "outputs": [
    {
     "data": {
      "text/plain": [
       "array([[6.50000000e+00, 1.00000000e+00, 3.00000000e+00, 2.70000000e+01,\n",
       "        1.88000000e+02, 6.22000000e+02],\n",
       "       [5.70000000e+00, 1.00000000e+00, 3.00000000e+00, 2.69000000e+01,\n",
       "        7.90000000e+01, 5.57000000e+02],\n",
       "       [6.00000000e+00, 1.00000000e+00, 3.00000000e+00, 2.70000000e+01,\n",
       "        1.10000000e+01, 4.91000000e+02],\n",
       "       [6.50000000e+00, 1.00000000e+00, 3.00000000e+00, 2.71000000e+01,\n",
       "        3.45000000e+02, 9.98750000e+02],\n",
       "       [6.20000000e+00, 5.11864407e-01, 3.00000000e+00, 2.71000000e+01,\n",
       "        6.02000000e+02, 4.44000000e+02]])"
      ]
     },
     "execution_count": 64,
     "metadata": {},
     "output_type": "execute_result"
    }
   ],
   "source": [
    "X = data[['pH', 'cahaya', 'intensitas_air', 'suhu', 'PPM', 'tinggi_air']].values  #.astype(float)\n",
    "X[0:5]"
   ]
  },
  {
   "cell_type": "code",
   "execution_count": 62,
   "id": "b3396b87",
   "metadata": {},
   "outputs": [
    {
     "data": {
      "text/plain": [
       "array([3, 3, 3, 0, 0], dtype=int64)"
      ]
     },
     "execution_count": 62,
     "metadata": {},
     "output_type": "execute_result"
    }
   ],
   "source": [
    "Y = data['aksi'].values\n",
    "Y[0:5]"
   ]
  },
  {
   "cell_type": "markdown",
   "id": "13d5fce7",
   "metadata": {},
   "source": [
    "#### Normalisasi"
   ]
  },
  {
   "cell_type": "markdown",
   "id": "cdb2899f",
   "metadata": {},
   "source": [
    "sudah dilakukan di atas"
   ]
  },
  {
   "cell_type": "markdown",
   "id": "347e8d95",
   "metadata": {},
   "source": [
    "#### Membagi data Training dan Testing"
   ]
  },
  {
   "cell_type": "code",
   "execution_count": 65,
   "id": "f3bfdb64",
   "metadata": {},
   "outputs": [],
   "source": [
    "from sklearn import preprocessing"
   ]
  },
  {
   "cell_type": "code",
   "execution_count": 66,
   "id": "54ad438f",
   "metadata": {},
   "outputs": [
    {
     "name": "stdout",
     "output_type": "stream",
     "text": [
      "Train set: (431, 6) (431,)\n",
      "Test set: (185, 6) (185,)\n"
     ]
    }
   ],
   "source": [
    "from sklearn.model_selection import train_test_split\n",
    "X_train, X_test, Y_train, Y_test = train_test_split( X, Y, test_size=0.3, random_state=42)  #ada 30% data untuk dites\n",
    "print ('Train set:', X_train.shape,  Y_train.shape)\n",
    "print ('Test set:', X_test.shape,  Y_test.shape)"
   ]
  },
  {
   "cell_type": "code",
   "execution_count": 69,
   "id": "bafc8f1d",
   "metadata": {},
   "outputs": [],
   "source": [
    "from sklearn.neighbors import KNeighborsClassifier"
   ]
  },
  {
   "cell_type": "markdown",
   "id": "eeb0cd5d",
   "metadata": {},
   "source": [
    "#### Mencari nilai K terbaik"
   ]
  },
  {
   "cell_type": "code",
   "execution_count": 125,
   "id": "82b6015e",
   "metadata": {},
   "outputs": [
    {
     "data": {
      "text/plain": [
       "array([0.68108108, 0.71351351, 0.67027027, 0.70810811, 0.7027027 ,\n",
       "       0.71351351, 0.72432432, 0.72432432, 0.72972973, 0.73513514,\n",
       "       0.71891892, 0.72432432, 0.71891892, 0.74594595, 0.75135135,\n",
       "       0.74054054, 0.75135135, 0.74594595, 0.74594595, 0.75135135,\n",
       "       0.75135135, 0.75135135, 0.75675676, 0.75135135, 0.74594595,\n",
       "       0.73513514, 0.73513514, 0.74054054, 0.73513514, 0.72972973])"
      ]
     },
     "execution_count": 125,
     "metadata": {},
     "output_type": "execute_result"
    }
   ],
   "source": [
    "from sklearn import metrics\n",
    "\n",
    "Ks = 30\n",
    "mean_acc = np.zeros((Ks))\n",
    "\n",
    "for n in range(1,Ks+1):\n",
    "    \n",
    "    #Train Model and Predict  \n",
    "    neigh = KNeighborsClassifier(n_neighbors = n).fit(X_train,Y_train) #buat model\n",
    "    yhat=neigh.predict(X_test) #memprediksi\n",
    "    mean_acc[n-1] = metrics.accuracy_score(Y_test, yhat)\n",
    "\n",
    "mean_acc"
   ]
  },
  {
   "cell_type": "code",
   "execution_count": 126,
   "id": "2f6b9cd1",
   "metadata": {},
   "outputs": [
    {
     "data": {
      "image/png": "[encoded data removed]",
      "text/plain": [
       "<Figure size 432x288 with 1 Axes>"
      ]
     },
     "metadata": {
      "needs_background": "light"
     },
     "output_type": "display_data"
    }
   ],
   "source": [
    "plt.plot(range(1,Ks+1),mean_acc,'g')\n",
    "\n",
    "plt.legend(('Accuracy '))\n",
    "plt.ylabel('Accuracy ')\n",
    "plt.xlabel('Number of Nabors (K)')\n",
    "plt.tight_layout()\n",
    "plt.show()"
   ]
  },
  {
   "cell_type": "markdown",
   "id": "58f2b09a",
   "metadata": {},
   "source": [
    "#### Training"
   ]
  },
  {
   "cell_type": "code",
   "execution_count": 119,
   "id": "41635db1",
   "metadata": {},
   "outputs": [
    {
     "data": {
      "text/plain": [
       "KNeighborsClassifier(n_neighbors=17)"
      ]
     },
     "execution_count": 119,
     "metadata": {},
     "output_type": "execute_result"
    }
   ],
   "source": [
    "k = 15\n",
    "#Train Model and Predict  \n",
    "knn = KNeighborsClassifier(n_neighbors = k).fit(X_train,Y_train)\n",
    "knn"
   ]
  },
  {
   "cell_type": "markdown",
   "id": "d2055053",
   "metadata": {},
   "source": [
    "#### Predicting dengan k=10"
   ]
  },
  {
   "cell_type": "code",
   "execution_count": 120,
   "id": "5f018806",
   "metadata": {},
   "outputs": [
    {
     "data": {
      "text/plain": [
       "array([0, 0, 0, 0, 0, 0, 0, 0, 0, 0], dtype=int64)"
      ]
     },
     "execution_count": 120,
     "metadata": {},
     "output_type": "execute_result"
    }
   ],
   "source": [
    "yhat = knn.predict(X_test)\n",
    "yhat[0:10]"
   ]
  },
  {
   "cell_type": "code",
   "execution_count": 121,
   "id": "4d166b81",
   "metadata": {},
   "outputs": [
    {
     "name": "stdout",
     "output_type": "stream",
     "text": [
      "Test set Accuracy:  0.7513513513513513\n"
     ]
    }
   ],
   "source": [
    "print(\"Test set Accuracy: \", metrics.accuracy_score(Y_test, yhat))"
   ]
  },
  {
   "cell_type": "code",
   "execution_count": null,
   "id": "c4470334",
   "metadata": {},
   "outputs": [],
   "source": []
  }
 ],
 "metadata": {
  "kernelspec": {
   "display_name": "Python 3",
   "language": "python",
   "name": "python3"
  },
  "language_info": {
   "codemirror_mode": {
    "name": "ipython",
    "version": 3
   },
   "file_extension": ".py",
   "mimetype": "text/x-python",
   "name": "python",
   "nbconvert_exporter": "python",
   "pygments_lexer": "ipython3",
   "version": "3.8.8"
  }
 },
 "nbformat": 4,
 "nbformat_minor": 5
}
