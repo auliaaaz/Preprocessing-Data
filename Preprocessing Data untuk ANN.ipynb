{
 "cells": [
  {
   "cell_type": "code",
   "execution_count": 1,
   "id": "6cfe3539",
   "metadata": {},
   "outputs": [],
   "source": [
    "import pandas as pd\n",
    "import matplotlib.pyplot as plt\n",
    "import numpy as np\n",
    "from sklearn import preprocessing\n",
    "%matplotlib inline\n",
    "#tambahkan library sesuai kebutuhan"
   ]
  },
  {
   "cell_type": "code",
   "execution_count": 2,
   "id": "a7dc9480",
   "metadata": {},
   "outputs": [
    {
     "data": {
      "text/html": [
       "<div>\n",
       "<style scoped>\n",
       "    .dataframe tbody tr th:only-of-type {\n",
       "        vertical-align: middle;\n",
       "    }\n",
       "\n",
       "    .dataframe tbody tr th {\n",
       "        vertical-align: top;\n",
       "    }\n",
       "\n",
       "    .dataframe thead th {\n",
       "        text-align: right;\n",
       "    }\n",
       "</style>\n",
       "<table border=\"1\" class=\"dataframe\">\n",
       "  <thead>\n",
       "    <tr style=\"text-align: right;\">\n",
       "      <th></th>\n",
       "      <th>PH</th>\n",
       "      <th>cahaya</th>\n",
       "      <th>intensitas air</th>\n",
       "      <th>suhu</th>\n",
       "      <th>PPM</th>\n",
       "      <th>tinggi air</th>\n",
       "      <th>aksi</th>\n",
       "    </tr>\n",
       "  </thead>\n",
       "  <tbody>\n",
       "    <tr>\n",
       "      <th>0</th>\n",
       "      <td>6.5</td>\n",
       "      <td>Ada</td>\n",
       "      <td>Tinggi</td>\n",
       "      <td>27.0</td>\n",
       "      <td>188.0</td>\n",
       "      <td>622</td>\n",
       "      <td>Hidupkan Lampu dan Pompa nutrisi TDS</td>\n",
       "    </tr>\n",
       "    <tr>\n",
       "      <th>1</th>\n",
       "      <td>5.7</td>\n",
       "      <td>Ada</td>\n",
       "      <td>Tinggi</td>\n",
       "      <td>26.9</td>\n",
       "      <td>79.0</td>\n",
       "      <td>557</td>\n",
       "      <td>Hidupkan Lampu dan Pompa nutrisi TDS</td>\n",
       "    </tr>\n",
       "    <tr>\n",
       "      <th>2</th>\n",
       "      <td>6.0</td>\n",
       "      <td>Ada</td>\n",
       "      <td>Tinggi</td>\n",
       "      <td>27.0</td>\n",
       "      <td>11.0</td>\n",
       "      <td>491</td>\n",
       "      <td>Hidupkan Lampu dan Pompa nutrisi TDS</td>\n",
       "    </tr>\n",
       "    <tr>\n",
       "      <th>3</th>\n",
       "      <td>6.5</td>\n",
       "      <td>Ada</td>\n",
       "      <td>Tinggi</td>\n",
       "      <td>27.1</td>\n",
       "      <td>345.0</td>\n",
       "      <td>12000</td>\n",
       "      <td>Tidak melakukan apa-apa</td>\n",
       "    </tr>\n",
       "    <tr>\n",
       "      <th>4</th>\n",
       "      <td>6.2</td>\n",
       "      <td>NaN</td>\n",
       "      <td>Tinggi</td>\n",
       "      <td>27.1</td>\n",
       "      <td>602.0</td>\n",
       "      <td>444</td>\n",
       "      <td>Tidak melakukan apa-apa</td>\n",
       "    </tr>\n",
       "    <tr>\n",
       "      <th>...</th>\n",
       "      <td>...</td>\n",
       "      <td>...</td>\n",
       "      <td>...</td>\n",
       "      <td>...</td>\n",
       "      <td>...</td>\n",
       "      <td>...</td>\n",
       "      <td>...</td>\n",
       "    </tr>\n",
       "    <tr>\n",
       "      <th>611</th>\n",
       "      <td>4.6</td>\n",
       "      <td>Ada</td>\n",
       "      <td>Rendah sekali</td>\n",
       "      <td>25.3</td>\n",
       "      <td>904.0</td>\n",
       "      <td>47</td>\n",
       "      <td>Hidupkan Lampu</td>\n",
       "    </tr>\n",
       "    <tr>\n",
       "      <th>612</th>\n",
       "      <td>2.1</td>\n",
       "      <td>Ada</td>\n",
       "      <td>Rendah sekali</td>\n",
       "      <td>25.0</td>\n",
       "      <td>388.0</td>\n",
       "      <td>18</td>\n",
       "      <td>Hidupkan Lampu dan Pompa nutrisi TDS</td>\n",
       "    </tr>\n",
       "    <tr>\n",
       "      <th>613</th>\n",
       "      <td>3.2</td>\n",
       "      <td>Ada</td>\n",
       "      <td>Rendah sekali</td>\n",
       "      <td>25.3</td>\n",
       "      <td>793.0</td>\n",
       "      <td>19</td>\n",
       "      <td>Hidupkan Lampu</td>\n",
       "    </tr>\n",
       "    <tr>\n",
       "      <th>614</th>\n",
       "      <td>1.4</td>\n",
       "      <td>Ada</td>\n",
       "      <td>Rendah sekali</td>\n",
       "      <td>25.4</td>\n",
       "      <td>1052.0</td>\n",
       "      <td>3</td>\n",
       "      <td>Hidupkan Lampu</td>\n",
       "    </tr>\n",
       "    <tr>\n",
       "      <th>615</th>\n",
       "      <td>5.0</td>\n",
       "      <td>Ada</td>\n",
       "      <td>Rendah sekali</td>\n",
       "      <td>25.3</td>\n",
       "      <td>977.0</td>\n",
       "      <td>19</td>\n",
       "      <td>Hidupkan Lampu</td>\n",
       "    </tr>\n",
       "  </tbody>\n",
       "</table>\n",
       "<p>616 rows × 7 columns</p>\n",
       "</div>"
      ],
      "text/plain": [
       "      PH cahaya intensitas air  suhu     PPM  tinggi air  \\\n",
       "0    6.5    Ada         Tinggi  27.0   188.0         622   \n",
       "1    5.7    Ada         Tinggi  26.9    79.0         557   \n",
       "2    6.0    Ada         Tinggi  27.0    11.0         491   \n",
       "3    6.5    Ada         Tinggi  27.1   345.0       12000   \n",
       "4    6.2    NaN         Tinggi  27.1   602.0         444   \n",
       "..   ...    ...            ...   ...     ...         ...   \n",
       "611  4.6    Ada  Rendah sekali  25.3   904.0          47   \n",
       "612  2.1    Ada  Rendah sekali  25.0   388.0          18   \n",
       "613  3.2    Ada  Rendah sekali  25.3   793.0          19   \n",
       "614  1.4    Ada  Rendah sekali  25.4  1052.0           3   \n",
       "615  5.0    Ada  Rendah sekali  25.3   977.0          19   \n",
       "\n",
       "                                     aksi  \n",
       "0    Hidupkan Lampu dan Pompa nutrisi TDS  \n",
       "1    Hidupkan Lampu dan Pompa nutrisi TDS  \n",
       "2    Hidupkan Lampu dan Pompa nutrisi TDS  \n",
       "3                 Tidak melakukan apa-apa  \n",
       "4                 Tidak melakukan apa-apa  \n",
       "..                                    ...  \n",
       "611                        Hidupkan Lampu  \n",
       "612  Hidupkan Lampu dan Pompa nutrisi TDS  \n",
       "613                        Hidupkan Lampu  \n",
       "614                        Hidupkan Lampu  \n",
       "615                        Hidupkan Lampu  \n",
       "\n",
       "[616 rows x 7 columns]"
      ]
     },
     "execution_count": 2,
     "metadata": {},
     "output_type": "execute_result"
    }
   ],
   "source": [
    "data = pd.read_csv('activity_km_07_01.csv')\n",
    "data"
   ]
  },
  {
   "cell_type": "markdown",
   "id": "3560c59c",
   "metadata": {},
   "source": [
    "## 1. Mengganti nama kolom yang menggunakan spasi"
   ]
  },
  {
   "cell_type": "code",
   "execution_count": 3,
   "id": "d93c558b",
   "metadata": {},
   "outputs": [],
   "source": [
    "data = data.rename(columns={'PH': 'pH', 'cahaya': 'cahaya', 'intensitas air': 'intensitas_air', 'suhu':'suhu','PPM':'PPM','tinggi air':'tinggi_air','aksi':'aksi'})"
   ]
  },
  {
   "cell_type": "markdown",
   "id": "0da44994",
   "metadata": {},
   "source": [
    "## 2. Mengganti data kategorikal menjadi bentuk numerical (Clue : Labelencoder tidak bekerja ketika ada missing value, gunakan metode lain)"
   ]
  },
  {
   "cell_type": "code",
   "execution_count": 4,
   "id": "c073810f",
   "metadata": {},
   "outputs": [
    {
     "data": {
      "text/html": [
       "<div>\n",
       "<style scoped>\n",
       "    .dataframe tbody tr th:only-of-type {\n",
       "        vertical-align: middle;\n",
       "    }\n",
       "\n",
       "    .dataframe tbody tr th {\n",
       "        vertical-align: top;\n",
       "    }\n",
       "\n",
       "    .dataframe thead th {\n",
       "        text-align: right;\n",
       "    }\n",
       "</style>\n",
       "<table border=\"1\" class=\"dataframe\">\n",
       "  <thead>\n",
       "    <tr style=\"text-align: right;\">\n",
       "      <th></th>\n",
       "      <th>pH</th>\n",
       "      <th>cahaya</th>\n",
       "      <th>intensitas_air</th>\n",
       "      <th>suhu</th>\n",
       "      <th>PPM</th>\n",
       "      <th>tinggi_air</th>\n",
       "      <th>aksi</th>\n",
       "    </tr>\n",
       "  </thead>\n",
       "  <tbody>\n",
       "    <tr>\n",
       "      <th>0</th>\n",
       "      <td>6.5</td>\n",
       "      <td>1.0</td>\n",
       "      <td>Tinggi</td>\n",
       "      <td>27.0</td>\n",
       "      <td>188.0</td>\n",
       "      <td>622</td>\n",
       "      <td>Hidupkan Lampu dan Pompa nutrisi TDS</td>\n",
       "    </tr>\n",
       "    <tr>\n",
       "      <th>1</th>\n",
       "      <td>5.7</td>\n",
       "      <td>1.0</td>\n",
       "      <td>Tinggi</td>\n",
       "      <td>26.9</td>\n",
       "      <td>79.0</td>\n",
       "      <td>557</td>\n",
       "      <td>Hidupkan Lampu dan Pompa nutrisi TDS</td>\n",
       "    </tr>\n",
       "    <tr>\n",
       "      <th>2</th>\n",
       "      <td>6.0</td>\n",
       "      <td>1.0</td>\n",
       "      <td>Tinggi</td>\n",
       "      <td>27.0</td>\n",
       "      <td>11.0</td>\n",
       "      <td>491</td>\n",
       "      <td>Hidupkan Lampu dan Pompa nutrisi TDS</td>\n",
       "    </tr>\n",
       "    <tr>\n",
       "      <th>3</th>\n",
       "      <td>6.5</td>\n",
       "      <td>1.0</td>\n",
       "      <td>Tinggi</td>\n",
       "      <td>27.1</td>\n",
       "      <td>345.0</td>\n",
       "      <td>12000</td>\n",
       "      <td>Tidak melakukan apa-apa</td>\n",
       "    </tr>\n",
       "    <tr>\n",
       "      <th>4</th>\n",
       "      <td>6.2</td>\n",
       "      <td>NaN</td>\n",
       "      <td>Tinggi</td>\n",
       "      <td>27.1</td>\n",
       "      <td>602.0</td>\n",
       "      <td>444</td>\n",
       "      <td>Tidak melakukan apa-apa</td>\n",
       "    </tr>\n",
       "  </tbody>\n",
       "</table>\n",
       "</div>"
      ],
      "text/plain": [
       "    pH  cahaya intensitas_air  suhu    PPM  tinggi_air  \\\n",
       "0  6.5     1.0         Tinggi  27.0  188.0         622   \n",
       "1  5.7     1.0         Tinggi  26.9   79.0         557   \n",
       "2  6.0     1.0         Tinggi  27.0   11.0         491   \n",
       "3  6.5     1.0         Tinggi  27.1  345.0       12000   \n",
       "4  6.2     NaN         Tinggi  27.1  602.0         444   \n",
       "\n",
       "                                   aksi  \n",
       "0  Hidupkan Lampu dan Pompa nutrisi TDS  \n",
       "1  Hidupkan Lampu dan Pompa nutrisi TDS  \n",
       "2  Hidupkan Lampu dan Pompa nutrisi TDS  \n",
       "3               Tidak melakukan apa-apa  \n",
       "4               Tidak melakukan apa-apa  "
      ]
     },
     "execution_count": 4,
     "metadata": {},
     "output_type": "execute_result"
    }
   ],
   "source": [
    "def getNumber(str):\n",
    "    if str==\"Ada\":\n",
    "        return 1\n",
    "    elif str==\"Tidak ada\":\n",
    "        return 0\n",
    "    else:\n",
    "        return str\n",
    "data[\"cahaya\"]=data[\"cahaya\"].apply(getNumber)\n",
    "\n",
    "data.head()"
   ]
  },
  {
   "cell_type": "code",
   "execution_count": 5,
   "id": "b89d82f8",
   "metadata": {},
   "outputs": [
    {
     "data": {
      "text/html": [
       "<div>\n",
       "<style scoped>\n",
       "    .dataframe tbody tr th:only-of-type {\n",
       "        vertical-align: middle;\n",
       "    }\n",
       "\n",
       "    .dataframe tbody tr th {\n",
       "        vertical-align: top;\n",
       "    }\n",
       "\n",
       "    .dataframe thead th {\n",
       "        text-align: right;\n",
       "    }\n",
       "</style>\n",
       "<table border=\"1\" class=\"dataframe\">\n",
       "  <thead>\n",
       "    <tr style=\"text-align: right;\">\n",
       "      <th></th>\n",
       "      <th>pH</th>\n",
       "      <th>cahaya</th>\n",
       "      <th>intensitas_air</th>\n",
       "      <th>suhu</th>\n",
       "      <th>PPM</th>\n",
       "      <th>tinggi_air</th>\n",
       "      <th>aksi</th>\n",
       "    </tr>\n",
       "  </thead>\n",
       "  <tbody>\n",
       "    <tr>\n",
       "      <th>0</th>\n",
       "      <td>6.5</td>\n",
       "      <td>1.0</td>\n",
       "      <td>3</td>\n",
       "      <td>27.0</td>\n",
       "      <td>188.0</td>\n",
       "      <td>622</td>\n",
       "      <td>Hidupkan Lampu dan Pompa nutrisi TDS</td>\n",
       "    </tr>\n",
       "    <tr>\n",
       "      <th>1</th>\n",
       "      <td>5.7</td>\n",
       "      <td>1.0</td>\n",
       "      <td>3</td>\n",
       "      <td>26.9</td>\n",
       "      <td>79.0</td>\n",
       "      <td>557</td>\n",
       "      <td>Hidupkan Lampu dan Pompa nutrisi TDS</td>\n",
       "    </tr>\n",
       "    <tr>\n",
       "      <th>2</th>\n",
       "      <td>6.0</td>\n",
       "      <td>1.0</td>\n",
       "      <td>3</td>\n",
       "      <td>27.0</td>\n",
       "      <td>11.0</td>\n",
       "      <td>491</td>\n",
       "      <td>Hidupkan Lampu dan Pompa nutrisi TDS</td>\n",
       "    </tr>\n",
       "    <tr>\n",
       "      <th>3</th>\n",
       "      <td>6.5</td>\n",
       "      <td>1.0</td>\n",
       "      <td>3</td>\n",
       "      <td>27.1</td>\n",
       "      <td>345.0</td>\n",
       "      <td>12000</td>\n",
       "      <td>Tidak melakukan apa-apa</td>\n",
       "    </tr>\n",
       "    <tr>\n",
       "      <th>4</th>\n",
       "      <td>6.2</td>\n",
       "      <td>NaN</td>\n",
       "      <td>3</td>\n",
       "      <td>27.1</td>\n",
       "      <td>602.0</td>\n",
       "      <td>444</td>\n",
       "      <td>Tidak melakukan apa-apa</td>\n",
       "    </tr>\n",
       "  </tbody>\n",
       "</table>\n",
       "</div>"
      ],
      "text/plain": [
       "    pH  cahaya  intensitas_air  suhu    PPM  tinggi_air  \\\n",
       "0  6.5     1.0               3  27.0  188.0         622   \n",
       "1  5.7     1.0               3  26.9   79.0         557   \n",
       "2  6.0     1.0               3  27.0   11.0         491   \n",
       "3  6.5     1.0               3  27.1  345.0       12000   \n",
       "4  6.2     NaN               3  27.1  602.0         444   \n",
       "\n",
       "                                   aksi  \n",
       "0  Hidupkan Lampu dan Pompa nutrisi TDS  \n",
       "1  Hidupkan Lampu dan Pompa nutrisi TDS  \n",
       "2  Hidupkan Lampu dan Pompa nutrisi TDS  \n",
       "3               Tidak melakukan apa-apa  \n",
       "4               Tidak melakukan apa-apa  "
      ]
     },
     "execution_count": 5,
     "metadata": {},
     "output_type": "execute_result"
    }
   ],
   "source": [
    "def getNumber(str):\n",
    "    if str==\"Tinggi\":\n",
    "        return 3\n",
    "    elif str==\"Cukup\":\n",
    "        return 2\n",
    "    elif str==\"Rendah\":\n",
    "        return 1\n",
    "    elif str==\"Rendah sekali\":\n",
    "        return 0\n",
    "    else:\n",
    "        return str\n",
    "data[\"intensitas_air\"]=data[\"intensitas_air\"].apply(getNumber)\n",
    "\n",
    "data.head()"
   ]
  },
  {
   "cell_type": "code",
   "execution_count": 6,
   "id": "7c800b2d",
   "metadata": {},
   "outputs": [
    {
     "name": "stdout",
     "output_type": "stream",
     "text": [
      "[0.0320586  0.08714432 0.23688282 0.64391426]\n",
      "1.0\n"
     ]
    }
   ],
   "source": [
    "# example of a function for calculating softmax for a list of numbers\n",
    "from numpy import exp\n",
    "# calculate the softmax of a vector\n",
    "def softmax(vector):\n",
    "    e = exp(vector)\n",
    "    return e / e.sum()\n",
    " \n",
    "# define data\n",
    "yold = [0, 1, 2, 3]\n",
    "# convert list of numbers to a list of probabilities\n",
    "resulty = softmax(yold)\n",
    "# report the probabilities\n",
    "print(resulty)\n",
    "# report the sum of the probabilities\n",
    "print(sum(resulty))"
   ]
  },
  {
   "cell_type": "code",
   "execution_count": 7,
   "id": "ac4edf93",
   "metadata": {},
   "outputs": [
    {
     "data": {
      "text/html": [
       "<div>\n",
       "<style scoped>\n",
       "    .dataframe tbody tr th:only-of-type {\n",
       "        vertical-align: middle;\n",
       "    }\n",
       "\n",
       "    .dataframe tbody tr th {\n",
       "        vertical-align: top;\n",
       "    }\n",
       "\n",
       "    .dataframe thead th {\n",
       "        text-align: right;\n",
       "    }\n",
       "</style>\n",
       "<table border=\"1\" class=\"dataframe\">\n",
       "  <thead>\n",
       "    <tr style=\"text-align: right;\">\n",
       "      <th></th>\n",
       "      <th>pH</th>\n",
       "      <th>cahaya</th>\n",
       "      <th>intensitas_air</th>\n",
       "      <th>suhu</th>\n",
       "      <th>PPM</th>\n",
       "      <th>tinggi_air</th>\n",
       "      <th>aksi</th>\n",
       "    </tr>\n",
       "  </thead>\n",
       "  <tbody>\n",
       "    <tr>\n",
       "      <th>0</th>\n",
       "      <td>6.5</td>\n",
       "      <td>1.0</td>\n",
       "      <td>3</td>\n",
       "      <td>27.0</td>\n",
       "      <td>188.0</td>\n",
       "      <td>622</td>\n",
       "      <td>3</td>\n",
       "    </tr>\n",
       "    <tr>\n",
       "      <th>1</th>\n",
       "      <td>5.7</td>\n",
       "      <td>1.0</td>\n",
       "      <td>3</td>\n",
       "      <td>26.9</td>\n",
       "      <td>79.0</td>\n",
       "      <td>557</td>\n",
       "      <td>3</td>\n",
       "    </tr>\n",
       "    <tr>\n",
       "      <th>2</th>\n",
       "      <td>6.0</td>\n",
       "      <td>1.0</td>\n",
       "      <td>3</td>\n",
       "      <td>27.0</td>\n",
       "      <td>11.0</td>\n",
       "      <td>491</td>\n",
       "      <td>3</td>\n",
       "    </tr>\n",
       "    <tr>\n",
       "      <th>3</th>\n",
       "      <td>6.5</td>\n",
       "      <td>1.0</td>\n",
       "      <td>3</td>\n",
       "      <td>27.1</td>\n",
       "      <td>345.0</td>\n",
       "      <td>12000</td>\n",
       "      <td>0</td>\n",
       "    </tr>\n",
       "    <tr>\n",
       "      <th>4</th>\n",
       "      <td>6.2</td>\n",
       "      <td>NaN</td>\n",
       "      <td>3</td>\n",
       "      <td>27.1</td>\n",
       "      <td>602.0</td>\n",
       "      <td>444</td>\n",
       "      <td>0</td>\n",
       "    </tr>\n",
       "  </tbody>\n",
       "</table>\n",
       "</div>"
      ],
      "text/plain": [
       "    pH  cahaya  intensitas_air  suhu    PPM  tinggi_air  aksi\n",
       "0  6.5     1.0               3  27.0  188.0         622     3\n",
       "1  5.7     1.0               3  26.9   79.0         557     3\n",
       "2  6.0     1.0               3  27.0   11.0         491     3\n",
       "3  6.5     1.0               3  27.1  345.0       12000     0\n",
       "4  6.2     NaN               3  27.1  602.0         444     0"
      ]
     },
     "execution_count": 7,
     "metadata": {},
     "output_type": "execute_result"
    }
   ],
   "source": [
    "def getNumber(str):\n",
    "    if str==\"Hidupkan Lampu dan Pompa nutrisi TDS\":\n",
    "        return 3\n",
    "    elif str==\"Hidupkan Lampu\":\n",
    "        return 2\n",
    "    elif str==\"Hidupkan Pompa nutrisi TDS\":\n",
    "        return 1\n",
    "    elif str==\"Tidak melakukan apa-apa\":\n",
    "        return 0\n",
    "    else:\n",
    "        return str\n",
    "        \n",
    "data[\"aksi\"]=data[\"aksi\"].apply(getNumber)\n",
    "\n",
    "data.head()"
   ]
  },
  {
   "cell_type": "markdown",
   "id": "967e2bba",
   "metadata": {},
   "source": [
    "## 3. Handle Missing Value"
   ]
  },
  {
   "cell_type": "code",
   "execution_count": 8,
   "id": "c088e386",
   "metadata": {},
   "outputs": [
    {
     "data": {
      "text/html": [
       "<div>\n",
       "<style scoped>\n",
       "    .dataframe tbody tr th:only-of-type {\n",
       "        vertical-align: middle;\n",
       "    }\n",
       "\n",
       "    .dataframe tbody tr th {\n",
       "        vertical-align: top;\n",
       "    }\n",
       "\n",
       "    .dataframe thead th {\n",
       "        text-align: right;\n",
       "    }\n",
       "</style>\n",
       "<table border=\"1\" class=\"dataframe\">\n",
       "  <thead>\n",
       "    <tr style=\"text-align: right;\">\n",
       "      <th></th>\n",
       "      <th>total_missing</th>\n",
       "      <th>perc_missing</th>\n",
       "    </tr>\n",
       "  </thead>\n",
       "  <tbody>\n",
       "    <tr>\n",
       "      <th>pH</th>\n",
       "      <td>16</td>\n",
       "      <td>1.795735</td>\n",
       "    </tr>\n",
       "    <tr>\n",
       "      <th>cahaya</th>\n",
       "      <td>26</td>\n",
       "      <td>2.918070</td>\n",
       "    </tr>\n",
       "    <tr>\n",
       "      <th>intensitas_air</th>\n",
       "      <td>0</td>\n",
       "      <td>0.000000</td>\n",
       "    </tr>\n",
       "    <tr>\n",
       "      <th>suhu</th>\n",
       "      <td>27</td>\n",
       "      <td>3.030303</td>\n",
       "    </tr>\n",
       "    <tr>\n",
       "      <th>PPM</th>\n",
       "      <td>5</td>\n",
       "      <td>0.561167</td>\n",
       "    </tr>\n",
       "    <tr>\n",
       "      <th>tinggi_air</th>\n",
       "      <td>0</td>\n",
       "      <td>0.000000</td>\n",
       "    </tr>\n",
       "    <tr>\n",
       "      <th>aksi</th>\n",
       "      <td>0</td>\n",
       "      <td>0.000000</td>\n",
       "    </tr>\n",
       "  </tbody>\n",
       "</table>\n",
       "</div>"
      ],
      "text/plain": [
       "                total_missing  perc_missing\n",
       "pH                         16      1.795735\n",
       "cahaya                     26      2.918070\n",
       "intensitas_air              0      0.000000\n",
       "suhu                       27      3.030303\n",
       "PPM                         5      0.561167\n",
       "tinggi_air                  0      0.000000\n",
       "aksi                        0      0.000000"
      ]
     },
     "execution_count": 8,
     "metadata": {},
     "output_type": "execute_result"
    }
   ],
   "source": [
    "#Cek missing value\n",
    "missing_data = pd.DataFrame({'total_missing': data.isnull().sum(), 'perc_missing': (data.isnull().sum()/891)*100})\n",
    "missing_data"
   ]
  },
  {
   "cell_type": "code",
   "execution_count": 9,
   "id": "a4ed955d",
   "metadata": {},
   "outputs": [
    {
     "data": {
      "text/plain": [
       "['pH', 'cahaya', 'suhu', 'PPM']"
      ]
     },
     "execution_count": 9,
     "metadata": {},
     "output_type": "execute_result"
    }
   ],
   "source": [
    "#mengelompokkan missing value\n",
    "column_missing = ['pH', 'cahaya', 'suhu', 'PPM']\n",
    "column_missing"
   ]
  },
  {
   "cell_type": "code",
   "execution_count": 10,
   "id": "1aed7bc0",
   "metadata": {},
   "outputs": [
    {
     "data": {
      "text/plain": [
       "pH                0\n",
       "cahaya            0\n",
       "intensitas_air    0\n",
       "suhu              0\n",
       "PPM               0\n",
       "tinggi_air        0\n",
       "aksi              0\n",
       "dtype: int64"
      ]
     },
     "execution_count": 10,
     "metadata": {},
     "output_type": "execute_result"
    }
   ],
   "source": [
    "#solve missing value\n",
    "for col in column_missing:\n",
    "  data[col].replace(np.nan, data[col].mean(), inplace=True)\n",
    "\n",
    "data.isnull().sum()"
   ]
  },
  {
   "cell_type": "markdown",
   "id": "da280888",
   "metadata": {},
   "source": [
    "## 4. Detect outliers dan handling (bisa dihapus atau diganti nilainya dengan mean/modus/median)"
   ]
  },
  {
   "cell_type": "code",
   "execution_count": 11,
   "id": "3754d019",
   "metadata": {},
   "outputs": [
    {
     "data": {
      "text/plain": [
       "Index(['pH', 'cahaya', 'intensitas_air', 'suhu', 'PPM', 'tinggi_air', 'aksi'], dtype='object')"
      ]
     },
     "execution_count": 11,
     "metadata": {},
     "output_type": "execute_result"
    }
   ],
   "source": [
    "data.columns"
   ]
  },
  {
   "cell_type": "code",
   "execution_count": 12,
   "id": "e13fc30a",
   "metadata": {},
   "outputs": [
    {
     "data": {
      "image/png": "[encoded data removed]",
      "text/plain": [
       "<Figure size 1368x648 with 1 Axes>"
      ]
     },
     "metadata": {
      "needs_background": "light"
     },
     "output_type": "display_data"
    }
   ],
   "source": [
    "num_cols = ['pH', 'cahaya', 'intensitas_air', 'suhu', 'PPM', 'tinggi_air', 'aksi']\n",
    "plt.figure(figsize=(19,9))\n",
    "data[num_cols].boxplot()\n",
    "plt.title(\"Variabels in data dataset\", fontsize=20)\n",
    "plt.show()"
   ]
  },
  {
   "cell_type": "code",
   "execution_count": 13,
   "id": "2e5c724d",
   "metadata": {},
   "outputs": [],
   "source": [
    "#terlihat bahwa kolom yang mempunyai outliers adalah tinggi_air dan suhu"
   ]
  },
  {
   "cell_type": "code",
   "execution_count": 14,
   "id": "f6e72768",
   "metadata": {},
   "outputs": [],
   "source": [
    "#replace outliers suhu\n",
    "Q1 = data['suhu'].quantile(0.25)\n",
    "Q3 = data['suhu'].quantile(0.75)\n",
    "IQR = Q3 - Q1\n",
    "whisker_width = 1.5\n",
    "lower_whisker = Q1 -(whisker_width*IQR)\n",
    "upper_whisker = Q3 + (whisker_width*IQR)\n",
    "data['suhu']=np.where(data['suhu']>upper_whisker,upper_whisker,np.where(data['suhu']<lower_whisker,lower_whisker,data['suhu']))"
   ]
  },
  {
   "cell_type": "code",
   "execution_count": 15,
   "id": "9aeee882",
   "metadata": {},
   "outputs": [],
   "source": [
    "#replace outliers tinggi_air\n",
    "Q1 = data['tinggi_air'].quantile(0.25)\n",
    "Q3 = data['tinggi_air'].quantile(0.75)\n",
    "IQR = Q3 - Q1\n",
    "\n",
    "whisker_width = 1.5\n",
    "lower_whisker = Q1 -(whisker_width*IQR)\n",
    "upper_whisker = Q3 + (whisker_width*IQR)\n",
    "data['tinggi_air']=np.where(data['tinggi_air']>upper_whisker,upper_whisker,np.where(data['tinggi_air']<lower_whisker,lower_whisker,data['tinggi_air']))"
   ]
  },
  {
   "cell_type": "code",
   "execution_count": 16,
   "id": "2390b6c9",
   "metadata": {},
   "outputs": [
    {
     "data": {
      "image/png": "[encoded data removed]",
      "text/plain": [
       "<Figure size 1368x648 with 1 Axes>"
      ]
     },
     "metadata": {
      "needs_background": "light"
     },
     "output_type": "display_data"
    }
   ],
   "source": [
    "#setelah direplace outliers nya\n",
    "num_cols = ['pH', 'cahaya', 'intensitas_air', 'suhu', 'PPM', 'tinggi_air', 'aksi']\n",
    "plt.figure(figsize=(19,9))\n",
    "data[num_cols].boxplot()\n",
    "plt.title(\"Variabels in data dataset setelah replace outliers\", fontsize=20)\n",
    "plt.show()"
   ]
  },
  {
   "cell_type": "markdown",
   "id": "34737085",
   "metadata": {},
   "source": [
    "## 5. Pisahkan data feature dengan label"
   ]
  },
  {
   "cell_type": "code",
   "execution_count": 17,
   "id": "96677ae1",
   "metadata": {},
   "outputs": [
    {
     "data": {
      "text/plain": [
       "array([[6.500e+00, 1.000e+00, 3.000e+00, 2.700e+01, 1.880e+02, 6.220e+02],\n",
       "       [5.700e+00, 1.000e+00, 3.000e+00, 2.690e+01, 7.900e+01, 5.570e+02],\n",
       "       [6.000e+00, 1.000e+00, 3.000e+00, 2.700e+01, 1.100e+01, 4.910e+02],\n",
       "       ...,\n",
       "       [3.200e+00, 1.000e+00, 0.000e+00, 2.530e+01, 7.930e+02, 1.900e+01],\n",
       "       [1.400e+00, 1.000e+00, 0.000e+00, 2.540e+01, 1.052e+03, 3.000e+00],\n",
       "       [5.000e+00, 1.000e+00, 0.000e+00, 2.530e+01, 9.770e+02, 1.900e+01]])"
      ]
     },
     "execution_count": 17,
     "metadata": {},
     "output_type": "execute_result"
    }
   ],
   "source": [
    "X = data.iloc[:,:6].values\n",
    "X"
   ]
  },
  {
   "cell_type": "code",
   "execution_count": 18,
   "id": "bbc4806e",
   "metadata": {},
   "outputs": [
    {
     "data": {
      "text/plain": [
       "array([3, 3, 3, 0, 0, 2, 2, 2, 0, 2, 2, 2, 2, 2, 2, 2, 2, 3, 3, 3, 3, 2,\n",
       "       2, 2, 2, 2, 2, 2, 2, 2, 2, 2, 2, 0, 3, 3, 3, 2, 2, 0, 0, 0, 0, 0,\n",
       "       0, 0, 0, 0, 0, 0, 0, 0, 0, 0, 0, 0, 0, 0, 0, 0, 0, 0, 0, 0, 0, 0,\n",
       "       0, 0, 0, 0, 0, 0, 0, 0, 0, 0, 0, 0, 0, 0, 0, 0, 0, 0, 0, 0, 0, 0,\n",
       "       0, 0, 0, 0, 0, 0, 0, 0, 0, 0, 0, 0, 0, 0, 0, 0, 0, 0, 0, 0, 0, 0,\n",
       "       0, 0, 0, 0, 0, 0, 0, 0, 0, 0, 0, 0, 0, 0, 0, 0, 0, 0, 0, 0, 0, 0,\n",
       "       0, 0, 0, 0, 0, 0, 0, 0, 0, 0, 0, 0, 0, 0, 0, 0, 0, 0, 0, 0, 0, 0,\n",
       "       0, 0, 0, 0, 0, 0, 0, 0, 0, 0, 0, 0, 0, 0, 0, 0, 0, 0, 0, 0, 0, 0,\n",
       "       0, 0, 0, 0, 0, 0, 0, 0, 0, 0, 0, 0, 0, 0, 0, 0, 0, 0, 0, 0, 0, 0,\n",
       "       0, 0, 0, 0, 0, 0, 0, 0, 0, 0, 0, 0, 0, 0, 0, 0, 0, 0, 0, 0, 0, 0,\n",
       "       0, 0, 0, 0, 0, 0, 0, 0, 0, 0, 0, 0, 0, 0, 0, 0, 0, 0, 0, 0, 0, 0,\n",
       "       0, 0, 0, 0, 0, 0, 0, 0, 0, 0, 0, 0, 0, 0, 0, 0, 0, 0, 0, 0, 3, 3,\n",
       "       3, 3, 3, 3, 3, 3, 3, 2, 2, 2, 2, 2, 2, 2, 2, 2, 2, 2, 0, 2, 2, 2,\n",
       "       2, 2, 0, 0, 2, 2, 0, 0, 2, 2, 3, 0, 3, 3, 3, 0, 3, 0, 0, 0, 2, 2,\n",
       "       0, 0, 0, 0, 2, 2, 0, 0, 2, 0, 2, 0, 0, 0, 0, 0, 2, 2, 2, 0, 0, 0,\n",
       "       0, 3, 0, 3, 0, 3, 3, 0, 0, 2, 0, 2, 2, 0, 0, 2, 0, 2, 0, 0, 2, 0,\n",
       "       0, 0, 2, 0, 0, 0, 1, 1, 1, 1, 1, 1, 1, 1, 1, 1, 1, 1, 0, 0, 0, 0,\n",
       "       0, 0, 0, 0, 0, 0, 0, 0, 0, 0, 0, 0, 0, 0, 0, 0, 0, 0, 0, 0, 0, 0,\n",
       "       0, 0, 0, 0, 0, 0, 0, 0, 0, 0, 0, 0, 0, 0, 0, 0, 0, 0, 0, 0, 0, 0,\n",
       "       0, 0, 0, 0, 0, 0, 0, 0, 0, 0, 0, 0, 0, 0, 0, 0, 0, 0, 0, 0, 0, 0,\n",
       "       0, 0, 0, 0, 0, 0, 0, 0, 0, 0, 0, 0, 0, 0, 0, 0, 0, 0, 0, 0, 0, 0,\n",
       "       0, 0, 0, 0, 0, 0, 0, 0, 0, 0, 0, 0, 0, 0, 0, 0, 0, 0, 0, 0, 0, 0,\n",
       "       0, 0, 0, 0, 0, 0, 0, 0, 0, 0, 0, 0, 0, 0, 0, 0, 0, 0, 0, 0, 0, 0,\n",
       "       0, 0, 0, 0, 0, 0, 0, 0, 0, 0, 0, 0, 0, 0, 0, 0, 0, 0, 0, 0, 0, 0,\n",
       "       0, 0, 0, 0, 0, 0, 0, 0, 0, 0, 0, 0, 0, 0, 0, 0, 0, 0, 0, 0, 0, 0,\n",
       "       0, 0, 0, 0, 0, 0, 0, 0, 0, 0, 0, 0, 0, 0, 0, 0, 0, 0, 0, 0, 0, 2,\n",
       "       2, 2, 0, 0, 2, 3, 2, 0, 2, 2, 2, 3, 2, 2, 3, 2, 2, 2, 3, 2, 2, 3,\n",
       "       2, 3, 2, 2, 2, 2, 3, 2, 2, 3, 2, 3, 2, 2, 2, 3, 2, 2, 3, 2, 2, 2],\n",
       "      dtype=int64)"
      ]
     },
     "execution_count": 18,
     "metadata": {},
     "output_type": "execute_result"
    }
   ],
   "source": [
    "Y = data.iloc[:, 6].values\n",
    "Y"
   ]
  },
  {
   "cell_type": "markdown",
   "id": "d97d9218",
   "metadata": {},
   "source": [
    "## 6. Check Imbalanced Dataset, jika imbalanced, gunakan smote"
   ]
  },
  {
   "cell_type": "code",
   "execution_count": 19,
   "id": "9b38106c",
   "metadata": {},
   "outputs": [
    {
     "name": "stdout",
     "output_type": "stream",
     "text": [
      "Requirement already satisfied: imbalanced-learn in c:\\users\\user\\anaconda3\\lib\\site-packages (0.8.1)\n",
      "Requirement already satisfied: numpy>=1.13.3 in c:\\users\\user\\anaconda3\\lib\\site-packages (from imbalanced-learn) (1.19.5)\n",
      "Requirement already satisfied: scikit-learn>=0.24 in c:\\users\\user\\anaconda3\\lib\\site-packages (from imbalanced-learn) (0.24.1)\n",
      "Requirement already satisfied: joblib>=0.11 in c:\\users\\user\\anaconda3\\lib\\site-packages (from imbalanced-learn) (1.0.1)\n",
      "Requirement already satisfied: scipy>=0.19.1 in c:\\users\\user\\anaconda3\\lib\\site-packages (from imbalanced-learn) (1.6.2)\n",
      "Requirement already satisfied: threadpoolctl>=2.0.0 in c:\\users\\user\\anaconda3\\lib\\site-packages (from scikit-learn>=0.24->imbalanced-learn) (2.1.0)\n",
      "Note: you may need to restart the kernel to use updated packages.\n"
     ]
    }
   ],
   "source": [
    "pip install imbalanced-learn"
   ]
  },
  {
   "cell_type": "code",
   "execution_count": 20,
   "id": "9723f9f7",
   "metadata": {},
   "outputs": [
    {
     "name": "stdout",
     "output_type": "stream",
     "text": [
      "Counter({0: 473, 2: 92, 3: 39, 1: 12})\n"
     ]
    }
   ],
   "source": [
    "from collections import Counter\n",
    "counter = Counter(Y)\n",
    "print(counter)"
   ]
  },
  {
   "cell_type": "code",
   "execution_count": 21,
   "id": "ec6c099a",
   "metadata": {
    "scrolled": true
   },
   "outputs": [
    {
     "name": "stdout",
     "output_type": "stream",
     "text": [
      "Class=3, n=39 (6.331%)\n",
      "Class=0, n=473 (76.786%)\n",
      "Class=2, n=92 (14.935%)\n",
      "Class=1, n=12 (1.948%)\n"
     ]
    },
    {
     "data": {
      "image/png": "[encoded data removed]",
      "text/plain": [
       "<Figure size 432x288 with 1 Axes>"
      ]
     },
     "metadata": {
      "needs_background": "light"
     },
     "output_type": "display_data"
    }
   ],
   "source": [
    "# load and summarize the dataset\n",
    "from pandas import read_csv\n",
    "from collections import Counter\n",
    "from matplotlib import pyplot\n",
    "from sklearn.preprocessing import LabelEncoder\n",
    "# split into input and output elements\n",
    "X, Y = data.iloc[:,:6].values, data.iloc[:, 6].values\n",
    "# label encode the target variable\n",
    "Y = LabelEncoder().fit_transform(Y)\n",
    "# summarize distribution\n",
    "counter = Counter(Y)\n",
    "for k,v in counter.items():\n",
    "    per = v / len(Y) * 100\n",
    "    print('Class=%d, n=%d (%.3f%%)' % (k, v, per))\n",
    "# plot the distribution\n",
    "pyplot.bar(counter.keys(), counter.values())\n",
    "pyplot.show()\n"
   ]
  },
  {
   "cell_type": "code",
   "execution_count": 22,
   "id": "82821d2b",
   "metadata": {},
   "outputs": [],
   "source": [
    "from imblearn.over_sampling import SMOTE\n",
    "oversample = SMOTE(k_neighbors=5)\n",
    "X_smote, Y_smote = oversample.fit_resample(X, Y)"
   ]
  },
  {
   "cell_type": "code",
   "execution_count": 23,
   "id": "9a9cab05",
   "metadata": {},
   "outputs": [
    {
     "name": "stdout",
     "output_type": "stream",
     "text": [
      "Counter({3: 473, 0: 473, 2: 473, 1: 473})\n"
     ]
    }
   ],
   "source": [
    "counter = Counter(Y_smote)\n",
    "print(counter)"
   ]
  },
  {
   "cell_type": "markdown",
   "id": "2d75e13f",
   "metadata": {},
   "source": [
    "## 7. Visualisasikan Data sehingga kita bisa mengetahui sebuah informasi"
   ]
  },
  {
   "cell_type": "code",
   "execution_count": 24,
   "id": "5020dd0d",
   "metadata": {},
   "outputs": [],
   "source": [
    "import seaborn as sns"
   ]
  },
  {
   "cell_type": "code",
   "execution_count": 25,
   "id": "d513d79e",
   "metadata": {},
   "outputs": [
    {
     "data": {
      "image/png": "[encoded data removed]",
      "text/plain": [
       "<Figure size 864x216 with 4 Axes>"
      ]
     },
     "metadata": {
      "needs_background": "light"
     },
     "output_type": "display_data"
    }
   ],
   "source": [
    "g = sns.FacetGrid(data, col='aksi')\n",
    "g = g.map(sns.kdeplot, 'pH')\n"
   ]
  },
  {
   "cell_type": "code",
   "execution_count": 26,
   "id": "a23cb984",
   "metadata": {},
   "outputs": [
    {
     "data": {
      "image/png": "[encoded data removed]",
      "text/plain": [
       "<Figure size 864x216 with 4 Axes>"
      ]
     },
     "metadata": {
      "needs_background": "light"
     },
     "output_type": "display_data"
    }
   ],
   "source": [
    "g = sns.FacetGrid(data, col='aksi')\n",
    "g = g.map(sns.kdeplot, 'tinggi_air')\n"
   ]
  },
  {
   "cell_type": "markdown",
   "id": "f499ac74",
   "metadata": {},
   "source": [
    "## 8. Lakukan Normalization menggunakan MinMaxScaler atau Standardization menggunakan StandarScaler"
   ]
  },
  {
   "cell_type": "code",
   "execution_count": 27,
   "id": "eec11733",
   "metadata": {},
   "outputs": [
    {
     "name": "stdout",
     "output_type": "stream",
     "text": [
      "[[0.46428571 1.         1.         0.38738739 0.08705773 0.62277847]\n",
      " [0.40714286 1.         1.         0.38288288 0.03631285 0.55769712]\n",
      " [0.42857143 1.         1.         0.38738739 0.00465549 0.49161452]\n",
      " ...\n",
      " [0.22857143 1.         0.         0.31081081 0.36871508 0.01902378]\n",
      " [0.1        1.         0.         0.31531532 0.48929236 0.00300375]\n",
      " [0.35714286 1.         0.         0.31081081 0.45437616 0.01902378]]\n"
     ]
    }
   ],
   "source": [
    "from sklearn.preprocessing import MinMaxScaler\n",
    "\n",
    "scaler =  MinMaxScaler()\n",
    "\n",
    "# transform data\n",
    "X_scaled = scaler.fit_transform(X)\n",
    "print(X_scaled)"
   ]
  },
  {
   "cell_type": "markdown",
   "id": "d4decc65",
   "metadata": {},
   "source": [
    "## 10. Membuat Model ANN dengan Library Keras"
   ]
  },
  {
   "cell_type": "code",
   "execution_count": 28,
   "id": "7e25ac60",
   "metadata": {},
   "outputs": [],
   "source": [
    "from numpy import argmax\n",
    "import tensorflow as tf\n",
    "from tensorflow import keras\n",
    "from tensorflow.keras import Sequential\n",
    "from tensorflow.keras import Model\n",
    "from tensorflow.keras import Input\n",
    "from tensorflow.keras.layers import Dense\n",
    "from sklearn.model_selection import train_test_split\n"
   ]
  },
  {
   "cell_type": "code",
   "execution_count": 29,
   "id": "291a8c09",
   "metadata": {},
   "outputs": [],
   "source": [
    "# split data \n",
    "X, y = data.values[:, :6], data.values[:, 6]\n",
    "# ubah tipe data menjadi float32\n",
    "X = X.astype('float32')"
   ]
  },
  {
   "cell_type": "code",
   "execution_count": 30,
   "id": "ff1aa1d8",
   "metadata": {},
   "outputs": [
    {
     "name": "stdout",
     "output_type": "stream",
     "text": [
      "(492, 6) (124, 6) (492,) (124,)\n"
     ]
    }
   ],
   "source": [
    "# encode string menjadi integer\n",
    "y = LabelEncoder().fit_transform(y)\n",
    "# split dataset menjadi 80% data training dan 20% data testing\n",
    "X_train, X_test, y_train, y_test = train_test_split(X, y, test_size=0.2)\n",
    "print(X_train.shape, X_test.shape, y_train.shape, y_test.shape)\n",
    "# memperoleh banyaknya jumlah fitur pada input\n",
    "n_features = X_train.shape[1]"
   ]
  },
  {
   "cell_type": "code",
   "execution_count": 31,
   "id": "fa6e8dac",
   "metadata": {},
   "outputs": [],
   "source": [
    "#define model\n",
    "model = Sequential()\n",
    "model.add(Dense(12, activation='relu', input_shape=(n_features,)))\n",
    "model.add(Dense(8, activation='relu', ))\n",
    "model.add(Dense(4, activation='softmax'))\n",
    "# compile model \n",
    "model.compile(optimizer='adam', loss='sparse_categorical_crossentropy', metrics=['accuracy'])\n"
   ]
  },
  {
   "cell_type": "code",
   "execution_count": 43,
   "id": "2c51828a",
   "metadata": {},
   "outputs": [
    {
     "name": "stdout",
     "output_type": "stream",
     "text": [
      "Epoch 1/150\n",
      "11/11 [==============================] - 0s 8ms/step - loss: 0.3407 - accuracy: 0.8198 - val_loss: 0.6906 - val_accuracy: 0.7230\n",
      "Epoch 2/150\n",
      "11/11 [==============================] - 0s 3ms/step - loss: 0.3486 - accuracy: 0.8256 - val_loss: 0.7380 - val_accuracy: 0.7635\n",
      "Epoch 3/150\n",
      "11/11 [==============================] - 0s 4ms/step - loss: 0.3351 - accuracy: 0.8256 - val_loss: 0.7454 - val_accuracy: 0.7770\n",
      "Epoch 4/150\n",
      "11/11 [==============================] - 0s 4ms/step - loss: 0.3595 - accuracy: 0.7936 - val_loss: 0.6964 - val_accuracy: 0.7297\n",
      "Epoch 5/150\n",
      "11/11 [==============================] - 0s 4ms/step - loss: 0.3545 - accuracy: 0.8198 - val_loss: 0.6735 - val_accuracy: 0.7432\n",
      "Epoch 6/150\n",
      "11/11 [==============================] - 0s 2ms/step - loss: 0.3679 - accuracy: 0.8227 - val_loss: 0.6836 - val_accuracy: 0.7297\n",
      "Epoch 7/150\n",
      "11/11 [==============================] - 0s 3ms/step - loss: 0.3467 - accuracy: 0.8110 - val_loss: 0.8769 - val_accuracy: 0.7365\n",
      "Epoch 8/150\n",
      "11/11 [==============================] - 0s 3ms/step - loss: 0.3789 - accuracy: 0.8198 - val_loss: 0.7802 - val_accuracy: 0.7568\n",
      "Epoch 9/150\n",
      "11/11 [==============================] - 0s 2ms/step - loss: 0.3726 - accuracy: 0.8110 - val_loss: 0.6921 - val_accuracy: 0.7230\n",
      "Epoch 10/150\n",
      "11/11 [==============================] - 0s 2ms/step - loss: 0.3744 - accuracy: 0.8052 - val_loss: 0.7072 - val_accuracy: 0.7500\n",
      "Epoch 11/150\n",
      "11/11 [==============================] - 0s 2ms/step - loss: 0.3500 - accuracy: 0.8314 - val_loss: 0.7073 - val_accuracy: 0.7297\n",
      "Epoch 12/150\n",
      "11/11 [==============================] - 0s 2ms/step - loss: 0.3455 - accuracy: 0.8285 - val_loss: 0.7425 - val_accuracy: 0.7703\n",
      "Epoch 13/150\n",
      "11/11 [==============================] - 0s 2ms/step - loss: 0.3355 - accuracy: 0.8314 - val_loss: 0.7113 - val_accuracy: 0.7568\n",
      "Epoch 14/150\n",
      "11/11 [==============================] - 0s 2ms/step - loss: 0.4255 - accuracy: 0.7820 - val_loss: 0.9116 - val_accuracy: 0.7770\n",
      "Epoch 15/150\n",
      "11/11 [==============================] - 0s 3ms/step - loss: 0.4100 - accuracy: 0.7936 - val_loss: 0.6999 - val_accuracy: 0.7500\n",
      "Epoch 16/150\n",
      "11/11 [==============================] - 0s 3ms/step - loss: 0.3920 - accuracy: 0.8052 - val_loss: 0.7054 - val_accuracy: 0.7568\n",
      "Epoch 17/150\n",
      "11/11 [==============================] - 0s 3ms/step - loss: 0.3465 - accuracy: 0.8140 - val_loss: 0.7254 - val_accuracy: 0.7500\n",
      "Epoch 18/150\n",
      "11/11 [==============================] - 0s 3ms/step - loss: 0.3496 - accuracy: 0.8256 - val_loss: 0.7361 - val_accuracy: 0.7770\n",
      "Epoch 19/150\n",
      "11/11 [==============================] - 0s 3ms/step - loss: 0.3661 - accuracy: 0.8140 - val_loss: 0.7431 - val_accuracy: 0.7500\n",
      "Epoch 20/150\n",
      "11/11 [==============================] - 0s 3ms/step - loss: 0.4004 - accuracy: 0.8110 - val_loss: 0.9098 - val_accuracy: 0.7297\n",
      "Epoch 21/150\n",
      "11/11 [==============================] - 0s 3ms/step - loss: 0.4657 - accuracy: 0.8023 - val_loss: 1.1484 - val_accuracy: 0.7230\n",
      "Epoch 22/150\n",
      "11/11 [==============================] - ETA: 0s - loss: 0.6911 - accuracy: 0.81 - 0s 3ms/step - loss: 0.4548 - accuracy: 0.8169 - val_loss: 1.0181 - val_accuracy: 0.7432\n",
      "Epoch 23/150\n",
      "11/11 [==============================] - 0s 2ms/step - loss: 0.4498 - accuracy: 0.7878 - val_loss: 0.6886 - val_accuracy: 0.7432\n",
      "Epoch 24/150\n",
      "11/11 [==============================] - 0s 2ms/step - loss: 0.4328 - accuracy: 0.7936 - val_loss: 0.6844 - val_accuracy: 0.7365\n",
      "Epoch 25/150\n",
      "11/11 [==============================] - 0s 3ms/step - loss: 0.4076 - accuracy: 0.8052 - val_loss: 0.6912 - val_accuracy: 0.7568\n",
      "Epoch 26/150\n",
      "11/11 [==============================] - 0s 2ms/step - loss: 0.3495 - accuracy: 0.8285 - val_loss: 0.8250 - val_accuracy: 0.7432\n",
      "Epoch 27/150\n",
      "11/11 [==============================] - 0s 2ms/step - loss: 0.3928 - accuracy: 0.7994 - val_loss: 0.7565 - val_accuracy: 0.7635\n",
      "Epoch 28/150\n",
      "11/11 [==============================] - 0s 2ms/step - loss: 0.4132 - accuracy: 0.8140 - val_loss: 0.7169 - val_accuracy: 0.7703\n",
      "Epoch 29/150\n",
      "11/11 [==============================] - 0s 3ms/step - loss: 0.3389 - accuracy: 0.8372 - val_loss: 0.6756 - val_accuracy: 0.7500\n",
      "Epoch 30/150\n",
      "11/11 [==============================] - 0s 4ms/step - loss: 0.3486 - accuracy: 0.8314 - val_loss: 0.6920 - val_accuracy: 0.7297\n",
      "Epoch 31/150\n",
      "11/11 [==============================] - 0s 3ms/step - loss: 0.3663 - accuracy: 0.8169 - val_loss: 0.7055 - val_accuracy: 0.7500\n",
      "Epoch 32/150\n",
      "11/11 [==============================] - 0s 2ms/step - loss: 0.4506 - accuracy: 0.7965 - val_loss: 0.7167 - val_accuracy: 0.7703\n",
      "Epoch 33/150\n",
      "11/11 [==============================] - 0s 2ms/step - loss: 0.4378 - accuracy: 0.7994 - val_loss: 1.0762 - val_accuracy: 0.7230\n",
      "Epoch 34/150\n",
      "11/11 [==============================] - 0s 2ms/step - loss: 0.4967 - accuracy: 0.7878 - val_loss: 0.7970 - val_accuracy: 0.7500\n",
      "Epoch 35/150\n",
      "11/11 [==============================] - 0s 2ms/step - loss: 0.4420 - accuracy: 0.7878 - val_loss: 0.6870 - val_accuracy: 0.7568\n",
      "Epoch 36/150\n",
      "11/11 [==============================] - 0s 3ms/step - loss: 0.3988 - accuracy: 0.8052 - val_loss: 0.7043 - val_accuracy: 0.7500\n",
      "Epoch 37/150\n",
      "11/11 [==============================] - 0s 3ms/step - loss: 0.3592 - accuracy: 0.8256 - val_loss: 0.9058 - val_accuracy: 0.7703\n",
      "Epoch 38/150\n",
      "11/11 [==============================] - 0s 2ms/step - loss: 0.4708 - accuracy: 0.7791 - val_loss: 0.9766 - val_accuracy: 0.7770\n",
      "Epoch 39/150\n",
      "11/11 [==============================] - 0s 4ms/step - loss: 0.4557 - accuracy: 0.7878 - val_loss: 0.7457 - val_accuracy: 0.7703\n",
      "Epoch 40/150\n",
      "11/11 [==============================] - 0s 3ms/step - loss: 0.3950 - accuracy: 0.7936 - val_loss: 0.7118 - val_accuracy: 0.7365\n",
      "Epoch 41/150\n",
      "11/11 [==============================] - 0s 3ms/step - loss: 0.4104 - accuracy: 0.8169 - val_loss: 0.7320 - val_accuracy: 0.7703\n",
      "Epoch 42/150\n",
      "11/11 [==============================] - 0s 3ms/step - loss: 0.3566 - accuracy: 0.8256 - val_loss: 0.7113 - val_accuracy: 0.7568\n",
      "Epoch 43/150\n",
      "11/11 [==============================] - 0s 3ms/step - loss: 0.4451 - accuracy: 0.7762 - val_loss: 0.7023 - val_accuracy: 0.7635\n",
      "Epoch 44/150\n",
      "11/11 [==============================] - 0s 3ms/step - loss: 0.3998 - accuracy: 0.8140 - val_loss: 0.8820 - val_accuracy: 0.7500\n",
      "Epoch 45/150\n",
      "11/11 [==============================] - 0s 2ms/step - loss: 0.4309 - accuracy: 0.7907 - val_loss: 0.7005 - val_accuracy: 0.7297\n",
      "Epoch 46/150\n",
      "11/11 [==============================] - 0s 3ms/step - loss: 0.3425 - accuracy: 0.8198 - val_loss: 0.6802 - val_accuracy: 0.7432\n",
      "Epoch 47/150\n",
      "11/11 [==============================] - 0s 2ms/step - loss: 0.3456 - accuracy: 0.8198 - val_loss: 0.6845 - val_accuracy: 0.7365\n",
      "Epoch 48/150\n",
      "11/11 [==============================] - 0s 3ms/step - loss: 0.4142 - accuracy: 0.7994 - val_loss: 0.8202 - val_accuracy: 0.7703\n",
      "Epoch 49/150\n",
      "11/11 [==============================] - 0s 2ms/step - loss: 0.3680 - accuracy: 0.8285 - val_loss: 0.7002 - val_accuracy: 0.7568\n",
      "Epoch 50/150\n",
      "11/11 [==============================] - 0s 1ms/step - loss: 0.3997 - accuracy: 0.8081 - val_loss: 0.6924 - val_accuracy: 0.7432\n",
      "Epoch 51/150\n",
      "11/11 [==============================] - 0s 3ms/step - loss: 0.3637 - accuracy: 0.8081 - val_loss: 0.7154 - val_accuracy: 0.7635\n",
      "Epoch 52/150\n",
      "11/11 [==============================] - 0s 4ms/step - loss: 0.3805 - accuracy: 0.8110 - val_loss: 0.6770 - val_accuracy: 0.7432\n",
      "Epoch 53/150\n",
      "11/11 [==============================] - 0s 2ms/step - loss: 0.3870 - accuracy: 0.8140 - val_loss: 0.7677 - val_accuracy: 0.7500\n",
      "Epoch 54/150\n",
      "11/11 [==============================] - 0s 2ms/step - loss: 0.3797 - accuracy: 0.8081 - val_loss: 0.6823 - val_accuracy: 0.7432\n",
      "Epoch 55/150\n",
      "11/11 [==============================] - 0s 2ms/step - loss: 0.3533 - accuracy: 0.8110 - val_loss: 0.6926 - val_accuracy: 0.7230\n",
      "Epoch 56/150\n",
      "11/11 [==============================] - 0s 2ms/step - loss: 0.3380 - accuracy: 0.8343 - val_loss: 0.7197 - val_accuracy: 0.7770\n",
      "Epoch 57/150\n",
      "11/11 [==============================] - 0s 4ms/step - loss: 0.4689 - accuracy: 0.7820 - val_loss: 0.7751 - val_accuracy: 0.7703\n",
      "Epoch 58/150\n"
     ]
    },
    {
     "name": "stdout",
     "output_type": "stream",
     "text": [
      "11/11 [==============================] - 0s 3ms/step - loss: 0.4128 - accuracy: 0.8023 - val_loss: 0.6832 - val_accuracy: 0.7500\n",
      "Epoch 59/150\n",
      "11/11 [==============================] - 0s 3ms/step - loss: 0.3720 - accuracy: 0.8372 - val_loss: 0.7150 - val_accuracy: 0.7703\n",
      "Epoch 60/150\n",
      "11/11 [==============================] - 0s 2ms/step - loss: 0.3762 - accuracy: 0.8285 - val_loss: 0.9357 - val_accuracy: 0.7297\n",
      "Epoch 61/150\n",
      "11/11 [==============================] - 0s 2ms/step - loss: 0.4681 - accuracy: 0.8052 - val_loss: 0.8705 - val_accuracy: 0.7568\n",
      "Epoch 62/150\n",
      "11/11 [==============================] - 0s 4ms/step - loss: 0.4929 - accuracy: 0.7820 - val_loss: 0.8709 - val_accuracy: 0.7365\n",
      "Epoch 63/150\n",
      "11/11 [==============================] - 0s 3ms/step - loss: 0.4256 - accuracy: 0.8081 - val_loss: 0.7117 - val_accuracy: 0.7432\n",
      "Epoch 64/150\n",
      "11/11 [==============================] - 0s 4ms/step - loss: 0.3797 - accuracy: 0.8052 - val_loss: 0.7116 - val_accuracy: 0.7365\n",
      "Epoch 65/150\n",
      "11/11 [==============================] - 0s 4ms/step - loss: 0.3757 - accuracy: 0.8110 - val_loss: 0.7206 - val_accuracy: 0.7432\n",
      "Epoch 66/150\n",
      "11/11 [==============================] - 0s 5ms/step - loss: 0.3584 - accuracy: 0.8314 - val_loss: 0.7310 - val_accuracy: 0.7770\n",
      "Epoch 67/150\n",
      "11/11 [==============================] - 0s 3ms/step - loss: 0.4555 - accuracy: 0.7965 - val_loss: 0.8322 - val_accuracy: 0.7838\n",
      "Epoch 68/150\n",
      "11/11 [==============================] - 0s 2ms/step - loss: 0.4406 - accuracy: 0.8110 - val_loss: 0.7278 - val_accuracy: 0.7635\n",
      "Epoch 69/150\n",
      "11/11 [==============================] - 0s 2ms/step - loss: 0.3603 - accuracy: 0.8052 - val_loss: 0.7028 - val_accuracy: 0.7297\n",
      "Epoch 70/150\n",
      "11/11 [==============================] - 0s 2ms/step - loss: 0.3471 - accuracy: 0.8110 - val_loss: 0.6769 - val_accuracy: 0.7703\n",
      "Epoch 71/150\n",
      "11/11 [==============================] - 0s 3ms/step - loss: 0.3505 - accuracy: 0.8314 - val_loss: 0.7769 - val_accuracy: 0.7770\n",
      "Epoch 72/150\n",
      "11/11 [==============================] - 0s 3ms/step - loss: 0.4110 - accuracy: 0.8023 - val_loss: 0.7038 - val_accuracy: 0.7568\n",
      "Epoch 73/150\n",
      "11/11 [==============================] - 0s 3ms/step - loss: 0.3767 - accuracy: 0.8023 - val_loss: 0.6911 - val_accuracy: 0.7365\n",
      "Epoch 74/150\n",
      "11/11 [==============================] - 0s 3ms/step - loss: 0.3696 - accuracy: 0.8140 - val_loss: 0.7733 - val_accuracy: 0.7500\n",
      "Epoch 75/150\n",
      "11/11 [==============================] - 0s 4ms/step - loss: 0.3651 - accuracy: 0.8081 - val_loss: 0.6907 - val_accuracy: 0.7365\n",
      "Epoch 76/150\n",
      "11/11 [==============================] - 0s 2ms/step - loss: 0.3452 - accuracy: 0.8169 - val_loss: 0.7065 - val_accuracy: 0.7568\n",
      "Epoch 77/150\n",
      "11/11 [==============================] - 0s 3ms/step - loss: 0.3397 - accuracy: 0.8343 - val_loss: 0.6844 - val_accuracy: 0.7500\n",
      "Epoch 78/150\n",
      "11/11 [==============================] - 0s 3ms/step - loss: 0.3424 - accuracy: 0.8372 - val_loss: 0.7382 - val_accuracy: 0.7568\n",
      "Epoch 79/150\n",
      "11/11 [==============================] - 0s 3ms/step - loss: 0.3617 - accuracy: 0.8110 - val_loss: 0.6802 - val_accuracy: 0.7500\n",
      "Epoch 80/150\n",
      "11/11 [==============================] - 0s 3ms/step - loss: 0.3566 - accuracy: 0.8052 - val_loss: 0.7060 - val_accuracy: 0.7568\n",
      "Epoch 81/150\n",
      "11/11 [==============================] - 0s 2ms/step - loss: 0.3607 - accuracy: 0.8140 - val_loss: 0.7491 - val_accuracy: 0.7703\n",
      "Epoch 82/150\n",
      "11/11 [==============================] - 0s 3ms/step - loss: 0.3410 - accuracy: 0.8256 - val_loss: 0.6857 - val_accuracy: 0.7500\n",
      "Epoch 83/150\n",
      "11/11 [==============================] - 0s 3ms/step - loss: 0.3412 - accuracy: 0.8081 - val_loss: 0.6847 - val_accuracy: 0.7635\n",
      "Epoch 84/150\n",
      "11/11 [==============================] - 0s 3ms/step - loss: 0.3795 - accuracy: 0.8169 - val_loss: 0.7085 - val_accuracy: 0.7365\n",
      "Epoch 85/150\n",
      "11/11 [==============================] - 0s 3ms/step - loss: 0.3833 - accuracy: 0.8140 - val_loss: 0.6923 - val_accuracy: 0.7568\n",
      "Epoch 86/150\n",
      "11/11 [==============================] - 0s 2ms/step - loss: 0.4237 - accuracy: 0.8110 - val_loss: 0.7334 - val_accuracy: 0.7635\n",
      "Epoch 87/150\n",
      "11/11 [==============================] - 0s 2ms/step - loss: 0.4527 - accuracy: 0.7791 - val_loss: 0.9416 - val_accuracy: 0.7297\n",
      "Epoch 88/150\n",
      "11/11 [==============================] - 0s 2ms/step - loss: 0.3873 - accuracy: 0.8169 - val_loss: 0.6889 - val_accuracy: 0.7365\n",
      "Epoch 89/150\n",
      "11/11 [==============================] - ETA: 0s - loss: 0.2953 - accuracy: 0.84 - 0s 2ms/step - loss: 0.3801 - accuracy: 0.8110 - val_loss: 0.7038 - val_accuracy: 0.7500\n",
      "Epoch 90/150\n",
      "11/11 [==============================] - 0s 1ms/step - loss: 0.3528 - accuracy: 0.8110 - val_loss: 0.7127 - val_accuracy: 0.7568\n",
      "Epoch 91/150\n",
      "11/11 [==============================] - 0s 2ms/step - loss: 0.3455 - accuracy: 0.8023 - val_loss: 0.6838 - val_accuracy: 0.7365\n",
      "Epoch 92/150\n",
      "11/11 [==============================] - 0s 2ms/step - loss: 0.3423 - accuracy: 0.8110 - val_loss: 0.7041 - val_accuracy: 0.7162\n",
      "Epoch 93/150\n",
      "11/11 [==============================] - 0s 2ms/step - loss: 0.3409 - accuracy: 0.8227 - val_loss: 0.7055 - val_accuracy: 0.7635\n",
      "Epoch 94/150\n",
      "11/11 [==============================] - 0s 3ms/step - loss: 0.3814 - accuracy: 0.7994 - val_loss: 0.7359 - val_accuracy: 0.7635\n",
      "Epoch 95/150\n",
      "11/11 [==============================] - 0s 2ms/step - loss: 0.3653 - accuracy: 0.7994 - val_loss: 0.7829 - val_accuracy: 0.7770\n",
      "Epoch 96/150\n",
      "11/11 [==============================] - 0s 2ms/step - loss: 0.3973 - accuracy: 0.8140 - val_loss: 0.9481 - val_accuracy: 0.7770\n",
      "Epoch 97/150\n",
      "11/11 [==============================] - 0s 2ms/step - loss: 0.4792 - accuracy: 0.7965 - val_loss: 0.7084 - val_accuracy: 0.7568\n",
      "Epoch 98/150\n",
      "11/11 [==============================] - 0s 3ms/step - loss: 0.3619 - accuracy: 0.8343 - val_loss: 0.6865 - val_accuracy: 0.7568\n",
      "Epoch 99/150\n",
      "11/11 [==============================] - 0s 4ms/step - loss: 0.4056 - accuracy: 0.7936 - val_loss: 0.7074 - val_accuracy: 0.7297\n",
      "Epoch 100/150\n",
      "11/11 [==============================] - 0s 3ms/step - loss: 0.3495 - accuracy: 0.8081 - val_loss: 0.7023 - val_accuracy: 0.7500\n",
      "Epoch 101/150\n",
      "11/11 [==============================] - 0s 3ms/step - loss: 0.4035 - accuracy: 0.8081 - val_loss: 0.7587 - val_accuracy: 0.7838\n",
      "Epoch 102/150\n",
      "11/11 [==============================] - 0s 2ms/step - loss: 0.4074 - accuracy: 0.8052 - val_loss: 0.7120 - val_accuracy: 0.7365\n",
      "Epoch 103/150\n",
      "11/11 [==============================] - 0s 4ms/step - loss: 0.4947 - accuracy: 0.8169 - val_loss: 0.7749 - val_accuracy: 0.7500\n",
      "Epoch 104/150\n",
      "11/11 [==============================] - 0s 3ms/step - loss: 0.4725 - accuracy: 0.8227 - val_loss: 0.6984 - val_accuracy: 0.7365\n",
      "Epoch 105/150\n",
      "11/11 [==============================] - 0s 3ms/step - loss: 0.3616 - accuracy: 0.8227 - val_loss: 0.7142 - val_accuracy: 0.7230\n",
      "Epoch 106/150\n",
      "11/11 [==============================] - 0s 3ms/step - loss: 0.3348 - accuracy: 0.8285 - val_loss: 0.6934 - val_accuracy: 0.7297\n",
      "Epoch 107/150\n",
      "11/11 [==============================] - 0s 3ms/step - loss: 0.3443 - accuracy: 0.8140 - val_loss: 0.6938 - val_accuracy: 0.7432\n",
      "Epoch 108/150\n",
      "11/11 [==============================] - 0s 3ms/step - loss: 0.3348 - accuracy: 0.8401 - val_loss: 0.6875 - val_accuracy: 0.7365\n",
      "Epoch 109/150\n",
      "11/11 [==============================] - 0s 4ms/step - loss: 0.3372 - accuracy: 0.8110 - val_loss: 0.7078 - val_accuracy: 0.7635\n",
      "Epoch 110/150\n",
      "11/11 [==============================] - 0s 2ms/step - loss: 0.3433 - accuracy: 0.8198 - val_loss: 0.7555 - val_accuracy: 0.7703\n",
      "Epoch 111/150\n",
      "11/11 [==============================] - 0s 2ms/step - loss: 0.3829 - accuracy: 0.8227 - val_loss: 0.7267 - val_accuracy: 0.7635\n",
      "Epoch 112/150\n",
      "11/11 [==============================] - 0s 3ms/step - loss: 0.3570 - accuracy: 0.8023 - val_loss: 0.6944 - val_accuracy: 0.7432\n",
      "Epoch 113/150\n",
      "11/11 [==============================] - 0s 3ms/step - loss: 0.3306 - accuracy: 0.8256 - val_loss: 0.6907 - val_accuracy: 0.7365\n",
      "Epoch 114/150\n",
      "11/11 [==============================] - 0s 2ms/step - loss: 0.3786 - accuracy: 0.8343 - val_loss: 0.9925 - val_accuracy: 0.7568\n",
      "Epoch 115/150\n"
     ]
    },
    {
     "name": "stdout",
     "output_type": "stream",
     "text": [
      "11/11 [==============================] - 0s 3ms/step - loss: 0.5153 - accuracy: 0.8052 - val_loss: 1.0443 - val_accuracy: 0.7297\n",
      "Epoch 116/150\n",
      "11/11 [==============================] - 0s 3ms/step - loss: 0.4747 - accuracy: 0.8052 - val_loss: 1.1472 - val_accuracy: 0.7027\n",
      "Epoch 117/150\n",
      "11/11 [==============================] - 0s 2ms/step - loss: 0.6505 - accuracy: 0.7965 - val_loss: 0.7071 - val_accuracy: 0.7365\n",
      "Epoch 118/150\n",
      "11/11 [==============================] - 0s 3ms/step - loss: 0.4467 - accuracy: 0.8052 - val_loss: 0.7299 - val_accuracy: 0.7635\n",
      "Epoch 119/150\n",
      "11/11 [==============================] - 0s 3ms/step - loss: 0.3755 - accuracy: 0.8285 - val_loss: 0.6885 - val_accuracy: 0.7500\n",
      "Epoch 120/150\n",
      "11/11 [==============================] - 0s 3ms/step - loss: 0.3582 - accuracy: 0.8227 - val_loss: 0.6962 - val_accuracy: 0.7500\n",
      "Epoch 121/150\n",
      "11/11 [==============================] - 0s 2ms/step - loss: 0.4062 - accuracy: 0.8198 - val_loss: 0.7068 - val_accuracy: 0.7432\n",
      "Epoch 122/150\n",
      "11/11 [==============================] - 0s 3ms/step - loss: 0.4057 - accuracy: 0.8227 - val_loss: 0.6958 - val_accuracy: 0.7432\n",
      "Epoch 123/150\n",
      "11/11 [==============================] - 0s 3ms/step - loss: 0.3667 - accuracy: 0.8198 - val_loss: 0.7110 - val_accuracy: 0.7230\n",
      "Epoch 124/150\n",
      "11/11 [==============================] - 0s 3ms/step - loss: 0.3572 - accuracy: 0.8198 - val_loss: 0.7148 - val_accuracy: 0.7568\n",
      "Epoch 125/150\n",
      "11/11 [==============================] - 0s 4ms/step - loss: 0.4235 - accuracy: 0.8110 - val_loss: 0.6893 - val_accuracy: 0.7432\n",
      "Epoch 126/150\n",
      "11/11 [==============================] - 0s 4ms/step - loss: 0.4481 - accuracy: 0.8023 - val_loss: 0.7100 - val_accuracy: 0.7770\n",
      "Epoch 127/150\n",
      "11/11 [==============================] - 0s 3ms/step - loss: 0.4267 - accuracy: 0.7994 - val_loss: 0.7496 - val_accuracy: 0.7770\n",
      "Epoch 128/150\n",
      "11/11 [==============================] - 0s 4ms/step - loss: 0.4215 - accuracy: 0.7994 - val_loss: 0.7160 - val_accuracy: 0.7432\n",
      "Epoch 129/150\n",
      "11/11 [==============================] - 0s 3ms/step - loss: 0.4518 - accuracy: 0.7587 - val_loss: 0.7611 - val_accuracy: 0.7635\n",
      "Epoch 130/150\n",
      "11/11 [==============================] - 0s 2ms/step - loss: 0.4734 - accuracy: 0.8169 - val_loss: 0.7237 - val_accuracy: 0.7297\n",
      "Epoch 131/150\n",
      "11/11 [==============================] - 0s 3ms/step - loss: 0.4971 - accuracy: 0.7820 - val_loss: 0.7576 - val_accuracy: 0.7635\n",
      "Epoch 132/150\n",
      "11/11 [==============================] - 0s 3ms/step - loss: 0.4088 - accuracy: 0.7994 - val_loss: 0.7449 - val_accuracy: 0.7703\n",
      "Epoch 133/150\n",
      "11/11 [==============================] - 0s 2ms/step - loss: 0.3755 - accuracy: 0.8169 - val_loss: 0.7225 - val_accuracy: 0.7500\n",
      "Epoch 134/150\n",
      "11/11 [==============================] - 0s 3ms/step - loss: 0.3544 - accuracy: 0.8081 - val_loss: 0.7163 - val_accuracy: 0.7297\n",
      "Epoch 135/150\n",
      "11/11 [==============================] - 0s 2ms/step - loss: 0.3582 - accuracy: 0.8343 - val_loss: 0.8924 - val_accuracy: 0.7500\n",
      "Epoch 136/150\n",
      "11/11 [==============================] - 0s 2ms/step - loss: 0.4029 - accuracy: 0.8285 - val_loss: 0.6876 - val_accuracy: 0.7432\n",
      "Epoch 137/150\n",
      "11/11 [==============================] - 0s 3ms/step - loss: 0.4525 - accuracy: 0.7878 - val_loss: 0.7900 - val_accuracy: 0.7500\n",
      "Epoch 138/150\n",
      "11/11 [==============================] - 0s 2ms/step - loss: 0.3753 - accuracy: 0.8169 - val_loss: 0.9103 - val_accuracy: 0.7297\n",
      "Epoch 139/150\n",
      "11/11 [==============================] - 0s 2ms/step - loss: 0.3938 - accuracy: 0.8169 - val_loss: 0.8227 - val_accuracy: 0.7365\n",
      "Epoch 140/150\n",
      "11/11 [==============================] - 0s 1ms/step - loss: 0.3823 - accuracy: 0.8285 - val_loss: 0.6983 - val_accuracy: 0.7568\n",
      "Epoch 141/150\n",
      "11/11 [==============================] - 0s 3ms/step - loss: 0.3436 - accuracy: 0.8488 - val_loss: 0.6801 - val_accuracy: 0.7568\n",
      "Epoch 142/150\n",
      "11/11 [==============================] - 0s 2ms/step - loss: 0.3547 - accuracy: 0.8081 - val_loss: 0.7168 - val_accuracy: 0.7568\n",
      "Epoch 143/150\n",
      "11/11 [==============================] - 0s 2ms/step - loss: 0.3878 - accuracy: 0.7994 - val_loss: 0.7230 - val_accuracy: 0.7635\n",
      "Epoch 144/150\n",
      "11/11 [==============================] - 0s 3ms/step - loss: 0.3785 - accuracy: 0.8052 - val_loss: 0.6939 - val_accuracy: 0.7297\n",
      "Epoch 145/150\n",
      "11/11 [==============================] - 0s 3ms/step - loss: 0.3468 - accuracy: 0.8314 - val_loss: 0.6871 - val_accuracy: 0.7432\n",
      "Epoch 146/150\n",
      "11/11 [==============================] - 0s 2ms/step - loss: 0.3575 - accuracy: 0.8256 - val_loss: 0.7056 - val_accuracy: 0.7500\n",
      "Epoch 147/150\n",
      "11/11 [==============================] - 0s 3ms/step - loss: 0.3641 - accuracy: 0.8023 - val_loss: 0.7813 - val_accuracy: 0.7432\n",
      "Epoch 148/150\n",
      "11/11 [==============================] - 0s 3ms/step - loss: 0.3598 - accuracy: 0.8169 - val_loss: 0.7987 - val_accuracy: 0.7635\n",
      "Epoch 149/150\n",
      "11/11 [==============================] - ETA: 0s - loss: 0.3305 - accuracy: 0.78 - 0s 2ms/step - loss: 0.3919 - accuracy: 0.7994 - val_loss: 0.7166 - val_accuracy: 0.7770\n",
      "Epoch 150/150\n",
      "11/11 [==============================] - 0s 3ms/step - loss: 0.3831 - accuracy: 0.8227 - val_loss: 0.8611 - val_accuracy: 0.7500\n",
      "16/16 [==============================] - 0s 1ms/step - loss: 0.5876 - accuracy: 0.7825\n",
      "Accuracy: 78.25\n"
     ]
    }
   ],
   "source": [
    "# fit model \n",
    "model.fit(X_train, y_train, epochs=150, batch_size=32, validation_split=0.3)\n",
    "# evaluate the keras model\n",
    "_, accuracy = model.evaluate(X_train, y_train)\n",
    "print('Accuracy: %.2f' % (accuracy*100))"
   ]
  },
  {
   "cell_type": "code",
   "execution_count": 49,
   "id": "b70ddaad",
   "metadata": {},
   "outputs": [
    {
     "name": "stdout",
     "output_type": "stream",
     "text": [
      "Predicted: [[6.8216062e-12 8.2776016e-20 4.8653859e-01 5.1346147e-01]] (class=3)\n"
     ]
    }
   ],
   "source": [
    "# Buat prediksi\n",
    "row = [6.0, 1.0, 3, 27.1, 345.0, 12000.0]\n",
    "yhat = models.predict([row])\n",
    "print('Predicted: %s (class=%d)' % (yhat, argmax(yhat)))"
   ]
  }
 ],
 "metadata": {
  "kernelspec": {
   "display_name": "Python 3",
   "language": "python",
   "name": "python3"
  },
  "language_info": {
   "codemirror_mode": {
    "name": "ipython",
    "version": 3
   },
   "file_extension": ".py",
   "mimetype": "text/x-python",
   "name": "python",
   "nbconvert_exporter": "python",
   "pygments_lexer": "ipython3",
   "version": "3.8.8"
  }
 },
 "nbformat": 4,
 "nbformat_minor": 5
}
